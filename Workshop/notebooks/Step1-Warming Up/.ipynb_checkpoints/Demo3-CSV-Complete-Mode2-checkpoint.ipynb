{
 "cells": [
  {
   "cell_type": "code",
   "execution_count": 1,
   "id": "1770c85c",
   "metadata": {},
   "outputs": [],
   "source": [
    "import sys\n",
    "from pyspark.sql import SparkSession\n",
    "from pyspark.sql.functions import *\n",
    "from pyspark.sql.types import *"
   ]
  },
  {
   "cell_type": "code",
   "execution_count": null,
   "id": "55e4c9f0",
   "metadata": {},
   "outputs": [],
   "source": [
    "spark = SparkSession.builder \\\n",
    "    .master(\"spark://spark-master:7077\") \\\n",
    "    .appName(\"Step1_3-CSV-Complete-Mode\") \\\n",
    "    .config(\"spark.executor.memory\", \"512mb\") \\\n",
    "    .config(\"spark.executor.cores\",\"1\") \\\n",
    "    .config(\"spark.cores.max\", \"1\") \\\n",
    "    .getOrCreate()"
   ]
  },
  {
   "cell_type": "code",
   "execution_count": null,
   "id": "2f62b9fa",
   "metadata": {},
   "outputs": [],
   "source": [
    "spark.sparkContext.setLogLevel(\"ERROR\")\n"
   ]
  },
  {
   "cell_type": "code",
   "execution_count": null,
   "id": "98907184",
   "metadata": {},
   "outputs": [],
   "source": [
    "! ls -lh /spark-data/datasets/droplocation\n"
   ]
  },
  {
   "cell_type": "code",
   "execution_count": null,
   "id": "90f05896",
   "metadata": {},
   "outputs": [],
   "source": [
    "schema = StructType([StructField(\"lsoa_code\", StringType(), True),\\\n",
    "                         StructField(\"borough\", StringType(), True),\\\n",
    "                         StructField(\"major_category\", StringType(), True),\\\n",
    "                         StructField(\"minor_category\", StringType(), True),\\\n",
    "                         StructField(\"value\", StringType(), True),\\\n",
    "                         StructField(\"year\", StringType(), True),\\\n",
    "                         StructField(\"month\", StringType(), True)])\n"
   ]
  },
  {
   "cell_type": "code",
   "execution_count": null,
   "id": "52059ebb",
   "metadata": {},
   "outputs": [],
   "source": [
    "fileStreamDF = spark.readStream\\\n",
    "                               .option(\"header\", \"true\")\\\n",
    "                               .schema(schema)\\\n",
    "                               .csv(\"/opt/spark-data/datasets/droplocation\")"
   ]
  },
  {
   "cell_type": "code",
   "execution_count": null,
   "id": "3875d264",
   "metadata": {},
   "outputs": [],
   "source": [
    "# Check whether input data is streaming or not\n",
    "print(\" \")\n",
    "print(\"Is the stream ready?\")\n",
    "print(fileStreamDF.isStreaming)\n"
   ]
  },
  {
   "cell_type": "code",
   "execution_count": null,
   "id": "7df8cec3",
   "metadata": {},
   "outputs": [],
   "source": [
    "# Print Schema\n",
    "print(\" \")\n",
    "print(\"Schema of the input stream: \")\n",
    "fileStreamDF.printSchema()\n"
   ]
  },
  {
   "cell_type": "code",
   "execution_count": null,
   "id": "e1cab5d1",
   "metadata": {},
   "outputs": [],
   "source": [
    "    # Create a trimmed version of the input dataframe with specific columns\n",
    "    # We cannot sort a DataFrame unless aggregate is used, so no sorting here\n",
    "    # We group by the borough and count the number of records (NOT number of convictions)\n",
    "    # We have used an aggregation function (orderBy), so can sort the dataframe\n",
    "recordsPerBorough = fileStreamDF.groupBy(\"borough\")\\\n",
    "                             .count()\\\n",
    "                             .orderBy(\"count\", ascending=False)\n"
   ]
  },
  {
   "cell_type": "code",
   "execution_count": null,
   "id": "e46062e5",
   "metadata": {},
   "outputs": [],
   "source": [
    "# We run in complete mode, so only new rows are processed,\n",
    "# and existing rows in Result Table are not affected\n",
    "# The output is written to the console\n",
    "# We set truncate to false. If true, the output is truncated to 20 chars\n",
    "# Explicity state number of rows to display. Default is 20  \n",
    "query = recordsPerBorough.writeStream\\\n",
    "                      .outputMode(\"complete\")\\\n",
    "                      .format(\"console\")\\\n",
    "                      .option(\"truncate\", \"false\")\\\n",
    "                      .option(\"numRows\", 30)\\\n",
    "                      .start()\\\n",
    "                      .awaitTermination()"
   ]
  },
  {
   "cell_type": "code",
   "execution_count": null,
   "id": "4e058c19",
   "metadata": {},
   "outputs": [],
   "source": [
    "# Submit App :\n",
    "# Submit codes/demo2.py \n"
   ]
  },
  {
   "cell_type": "code",
   "execution_count": null,
   "id": "8f09f943",
   "metadata": {},
   "outputs": [],
   "source": [
    "spark.stop()"
   ]
  },
  {
   "cell_type": "code",
   "execution_count": null,
   "id": "86e46711",
   "metadata": {},
   "outputs": [],
   "source": []
  }
 ],
 "metadata": {
  "kernelspec": {
   "display_name": "Python 3 (ipykernel)",
   "language": "python",
   "name": "python3"
  },
  "language_info": {
   "codemirror_mode": {
    "name": "ipython",
    "version": 3
   },
   "file_extension": ".py",
   "mimetype": "text/x-python",
   "name": "python",
   "nbconvert_exporter": "python",
   "pygments_lexer": "ipython3",
   "version": "3.11.6"
  }
 },
 "nbformat": 4,
 "nbformat_minor": 5
}
