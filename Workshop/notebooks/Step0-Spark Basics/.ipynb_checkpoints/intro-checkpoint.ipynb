{
 "cells": [
  {
   "cell_type": "code",
   "execution_count": null,
   "id": "a7277e9c-ad24-4294-9bca-6d48bca86f8c",
   "metadata": {},
   "outputs": [],
   "source": [
    "!pip install pyspark"
   ]
  },
  {
   "cell_type": "code",
   "execution_count": null,
   "id": "df8d073a",
   "metadata": {},
   "outputs": [],
   "source": [
    "import sys\n",
    "sys.executable"
   ]
  },
  {
   "cell_type": "code",
   "execution_count": null,
   "id": "52363593-ec68-43df-a6d2-afc161887f18",
   "metadata": {},
   "outputs": [],
   "source": [
    "! echo $SPARK_HOME"
   ]
  },
  {
   "cell_type": "code",
   "execution_count": null,
   "id": "47e60875",
   "metadata": {},
   "outputs": [],
   "source": [
    "#import findspark\n",
    "\n",
    "#findspark.init()"
   ]
  },
  {
   "cell_type": "code",
   "execution_count": 1,
   "id": "016938be",
   "metadata": {},
   "outputs": [],
   "source": [
    "import pyspark\n",
    "from pyspark.sql import SparkSession"
   ]
  },
  {
   "cell_type": "code",
   "execution_count": null,
   "id": "c63279a1",
   "metadata": {},
   "outputs": [],
   "source": [
    "spark=SparkSession.builder \\\n",
    ".master('spark://spark-master:7077') \\\n",
    ".appName('Pi-Estimation') \\\n",
    ".config('spark.driver.memory', '512M')  \\\n",
    ".config('spark.executor.memory', '512M')  \\\n",
    ".config('spark.executor.instances', '1')  \\\n",
    ".config('spark.executor.cores', '1')  \\\n",
    ".config(\"spark.cores.max\", \"1\") \\\n",
    ".getOrCreate()"
   ]
  },
  {
   "cell_type": "code",
   "execution_count": null,
   "id": "92b3efb9",
   "metadata": {},
   "outputs": [],
   "source": [
    "import random\n",
    "\n",
    "NUM_SAMPLES=10000\n",
    "\n",
    "def inside(p):\n",
    "    x,y = random.random(), random.random()\n",
    "    return x*x + y*y < 1\n",
    "\n",
    "data = spark.sparkContext.parallelize(range(0,NUM_SAMPLES)).filter(inside).collect()\n",
    "# print(data)\n",
    "print('Pi is roughly {}'.format(4.0 * len(data) / NUM_SAMPLES))"
   ]
  },
  {
   "cell_type": "code",
   "execution_count": null,
   "id": "e2b02b39",
   "metadata": {},
   "outputs": [],
   "source": [
    "data = spark.sparkContext.parallelize(range(0,NUM_SAMPLES),10).filter(inside).collect()\n",
    "# print(data)\n",
    "print('Pi is roughly {}'.format(4.0 * len(data) / NUM_SAMPLES))"
   ]
  },
  {
   "cell_type": "code",
   "execution_count": null,
   "id": "7841dcd2",
   "metadata": {},
   "outputs": [],
   "source": [
    "spark.stop()"
   ]
  },
  {
   "cell_type": "code",
   "execution_count": null,
   "id": "79b1b244-050d-43ed-a567-a8c58c29fb2f",
   "metadata": {},
   "outputs": [],
   "source": []
  }
 ],
 "metadata": {
  "kernelspec": {
   "display_name": "Python 3 (ipykernel)",
   "language": "python",
   "name": "python3"
  },
  "language_info": {
   "codemirror_mode": {
    "name": "ipython",
    "version": 3
   },
   "file_extension": ".py",
   "mimetype": "text/x-python",
   "name": "python",
   "nbconvert_exporter": "python",
   "pygments_lexer": "ipython3",
   "version": "3.11.6"
  }
 },
 "nbformat": 4,
 "nbformat_minor": 5
}
