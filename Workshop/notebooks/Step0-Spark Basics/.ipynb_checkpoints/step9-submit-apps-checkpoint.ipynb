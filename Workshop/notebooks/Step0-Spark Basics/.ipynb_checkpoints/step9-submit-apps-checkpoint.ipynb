{
 "cells": [
  {
   "cell_type": "markdown",
   "id": "9fa32c07-348e-4c01-9e59-ebf38b455252",
   "metadata": {},
   "source": [
    "#### Note:\n",
    " - Enable Postgres-server Service in Docker-compose-bitnami"
   ]
  },
  {
   "cell_type": "code",
   "execution_count": 2,
   "id": "104370d2",
   "metadata": {},
   "outputs": [],
   "source": [
    "from pyspark.sql import SparkSession\n",
    "from pyspark.sql.functions import *"
   ]
  },
  {
   "cell_type": "code",
   "execution_count": 3,
   "id": "a3101859",
   "metadata": {},
   "outputs": [
    {
     "name": "stderr",
     "output_type": "stream",
     "text": [
      "23/10/21 08:31:14 WARN NativeCodeLoader: Unable to load native-hadoop library for your platform... using builtin-java classes where applicable\n",
      "Setting default log level to \"WARN\".\n",
      "To adjust logging level use sc.setLogLevel(newLevel). For SparkR, use setLogLevel(newLevel).\n"
     ]
    },
    {
     "data": {
      "text/html": [
       "\n",
       "            <div>\n",
       "                <p><b>SparkSession - in-memory</b></p>\n",
       "                \n",
       "        <div>\n",
       "            <p><b>SparkContext</b></p>\n",
       "\n",
       "            <p><a href=\"http://pyspark:4040\">Spark UI</a></p>\n",
       "\n",
       "            <dl>\n",
       "              <dt>Version</dt>\n",
       "                <dd><code>v3.5.0</code></dd>\n",
       "              <dt>Master</dt>\n",
       "                <dd><code>spark://spark-master:7077</code></dd>\n",
       "              <dt>AppName</dt>\n",
       "                <dd><code>Submit-App</code></dd>\n",
       "            </dl>\n",
       "        </div>\n",
       "        \n",
       "            </div>\n",
       "        "
      ],
      "text/plain": [
       "<pyspark.sql.session.SparkSession at 0x7ff2b4743b20>"
      ]
     },
     "execution_count": 3,
     "metadata": {},
     "output_type": "execute_result"
    }
   ],
   "source": [
    "def init_spark():\n",
    "    sp=SparkSession.builder \\\n",
    "        .master('spark://spark-master:7077') \\\n",
    "        .appName('Submit-App') \\\n",
    "        .config('spark.driver.memory', '512M')  \\\n",
    "        .config('spark.executor.memory', '512M')  \\\n",
    "        .config('spark.executor.instances', '1')  \\\n",
    "        .config('spark.executor.cores', '1')  \\\n",
    "        .config(\"spark.cores.max\", \"1\") \\\n",
    "        .config(\"spark.jars\", \"/spark-apps/postgresql-42.6.0.jar\")\\\n",
    "        .getOrCreate()\n",
    "    sc = sp.sparkContext\n",
    "    return sp,sc\n",
    "spark,sc = init_spark()\n",
    "spark.sparkContext.setLogLevel(\"ERROR\")\n",
    "spark"
   ]
  },
  {
   "cell_type": "code",
   "execution_count": 6,
   "id": "91ebc047",
   "metadata": {},
   "outputs": [
    {
     "name": "stdout",
     "output_type": "stream",
     "text": [
      "Number of total rows : 9999\n",
      "-=-=-=-=-=-=-=-=-=-=-=-=-=-=-=-=-=-=-=-=-=-=-=-=-=-=-=-=-=-=\n",
      "Number of rows after filtering: 9983\n",
      "+---------+----------+-------------------+----------+-------------------+---------------------+--------------+-----------------+--------------------+----------------------------+----------------------+-------------------+-----------+\n",
      "| latitude| longitude|      time_received|vehicle_id|distance_along_trip|inferred_direction_id|inferred_phase|inferred_route_id|    inferred_trip_id|next_scheduled_stop_distance|next_scheduled_stop_id|        report_hour|report_date|\n",
      "+---------+----------+-------------------+----------+-------------------+---------------------+--------------+-----------------+--------------------+----------------------------+----------------------+-------------------+-----------+\n",
      "|40.668602|-73.986697|2014-08-01 04:00:01|       469| 4135.3471071014355|                    1|   IN_PROGRESS|     MTA NYCT_B63|MTA NYCT_JG_C4-We...|           2.631838042056188|            MTA_305423|2014-08-01 04:00:00| 2014-08-01|\n",
      "|40.713702| -73.97967|2014-08-01 04:00:01|      3928|  3974.805808480911|                    0|LAYOVER_DURING|     MTA NYCT_M22|MTA NYCT_MQ_C4-We...|          129.33089859723805|            MTA_903025|2014-08-01 04:00:00| 2014-08-01|\n",
      "|40.748222| -73.98418|2014-08-01 04:00:01|      5854| 1903.7575629287167|                    0|   IN_PROGRESS|    MTA NYCT_M34+|MTA NYCT_MQ_C4-We...|          319.65877470256237|            MTA_401824|2014-08-01 04:00:00| 2014-08-01|\n",
      "|40.673793|-73.923243|2014-08-01 04:00:01|      6574| 6905.4166072797525|                    0|   IN_PROGRESS|     MTA NYCT_B65|MTA NYCT_EN_C4-We...|           82.64657277603692|            MTA_305582|2014-08-01 04:00:00| 2014-08-01|\n",
      "|40.808675|-73.938427|2014-08-01 04:00:01|      6755|  9924.939800543725|                    0|   IN_PROGRESS|      MTA NYCT_M1|MTA NYCT_MV_C4-We...|          222.59271141425415|            MTA_400057|2014-08-01 04:00:00| 2014-08-01|\n",
      "+---------+----------+-------------------+----------+-------------------+---------------------+--------------+-----------------+--------------------+----------------------------+----------------------+-------------------+-----------+\n",
      "only showing top 5 rows\n",
      "\n",
      "-=-=-=-=-=-=-=-=-=-=-=-=-=-=-=-=-=-=-=-=-=-=-=-=-=-=-=-=-=-=\n"
     ]
    },
    {
     "name": "stderr",
     "output_type": "stream",
     "text": [
      "[Stage 32:>                                                         (0 + 1) / 1]\r"
     ]
    },
    {
     "name": "stdout",
     "output_type": "stream",
     "text": [
      "Data written to the database.\n"
     ]
    },
    {
     "name": "stderr",
     "output_type": "stream",
     "text": [
      "23/10/21 10:00:17 ERROR StandaloneSchedulerBackend: Application has been killed. Reason: Master removed our application: KILLED\n",
      "23/10/21 10:00:20 ERROR Inbox: Ignoring error\n",
      "org.apache.spark.SparkException: Exiting due to error from cluster scheduler: Master removed our application: KILLED\n",
      "\tat org.apache.spark.errors.SparkCoreErrors$.clusterSchedulerError(SparkCoreErrors.scala:291)\n",
      "\tat org.apache.spark.scheduler.TaskSchedulerImpl.error(TaskSchedulerImpl.scala:981)\n",
      "\tat org.apache.spark.scheduler.cluster.StandaloneSchedulerBackend.dead(StandaloneSchedulerBackend.scala:165)\n",
      "\tat org.apache.spark.deploy.client.StandaloneAppClient$ClientEndpoint.markDead(StandaloneAppClient.scala:263)\n",
      "\tat org.apache.spark.deploy.client.StandaloneAppClient$ClientEndpoint$$anonfun$receive$1.applyOrElse(StandaloneAppClient.scala:170)\n",
      "\tat org.apache.spark.rpc.netty.Inbox.$anonfun$process$1(Inbox.scala:115)\n",
      "\tat org.apache.spark.rpc.netty.Inbox.safelyCall(Inbox.scala:213)\n",
      "\tat org.apache.spark.rpc.netty.Inbox.process(Inbox.scala:100)\n",
      "\tat org.apache.spark.rpc.netty.MessageLoop.org$apache$spark$rpc$netty$MessageLoop$$receiveLoop(MessageLoop.scala:75)\n",
      "\tat org.apache.spark.rpc.netty.MessageLoop$$anon$1.run(MessageLoop.scala:41)\n",
      "\tat java.base/java.util.concurrent.ThreadPoolExecutor.runWorker(ThreadPoolExecutor.java:1128)\n",
      "\tat java.base/java.util.concurrent.ThreadPoolExecutor$Worker.run(ThreadPoolExecutor.java:628)\n",
      "\tat java.base/java.lang.Thread.run(Thread.java:829)\n"
     ]
    }
   ],
   "source": [
    "def main():\n",
    "  global   spark,sc   \n",
    "  url = \"jdbc:postgresql://postgres-server:5432/mta_data\"\n",
    "    \n",
    "  properties = {\n",
    "    \"user\": \"Test\",\n",
    "    \"password\": \"Test123\",\n",
    "    \"driver\": \"org.postgresql.Driver\"\n",
    "  }\n",
    "  file = \"/spark-data/MTA-Bus-Time_.2014-08-01.txt\"\n",
    "\n",
    "  \n",
    "  df = spark.read.load(file,format = \"csv\", inferSchema=\"true\", sep=\"\\t\", header=\"true\") \\\n",
    "      .withColumn(\"report_hour\",date_format(col(\"time_received\"),\"yyyy-MM-dd HH:00:00\")) \\\n",
    "      .withColumn(\"report_date\",date_format(col(\"time_received\"),\"yyyy-MM-dd\"))\n",
    "  print(\"Number of total rows :\", df.count())\n",
    "  print(\"-=\"*30)\n",
    "  new_df=df.where(\"latitude <= 90 AND latitude >= -90 AND longitude <= 180 AND longitude >= -180\")\\\n",
    "    .where(\"latitude != 0.000000 OR longitude !=  0.000000 \")\n",
    "    \n",
    "  # Debugging: print the number of rows after filtering\n",
    "  print(\"Number of rows after filtering:\", new_df.count())\n",
    "  new_df.show(5)\n",
    "  print(\"-=\"*30)\n",
    "  \n",
    "  if new_df.count() > 0:\n",
    "        new_df.write.jdbc(url=url, table=\"mta_reports\", mode='append', properties=properties)\n",
    "        print(\"Data written to the database.\")\n",
    "  else:\n",
    "        print(\"No valid data to write to the database.\")\n",
    "    \n",
    "if __name__ == '__main__':\n",
    "  main()"
   ]
  },
  {
   "cell_type": "markdown",
   "id": "49d2665a-819d-4543-bcef-f7ca41ce9d67",
   "metadata": {},
   "source": [
    "## Submit Sample Spark App in Pyspark Container Bash\n"
   ]
  },
  {
   "cell_type": "markdown",
   "id": "8c4dcc95-eed8-44e5-921a-e709db188d85",
   "metadata": {},
   "source": [
    "- Go to Pyspark Shell :`docker exec -it pyspark bash`\n",
    "- `cd /spark-apps/`\n",
    "- run these 3 commands :\n",
    "```\n",
    "unset PYSPARK_DRIVER_PYTHON\n",
    "spark-submit --master  spark-master:7077  --jars postgresql-42.6.0.jar submit-apps.py\n",
    "export PYSPARK_DRIVER_PYTHON=python\n",
    "```"
   ]
  }
 ],
 "metadata": {
  "kernelspec": {
   "display_name": "Python 3 (ipykernel)",
   "language": "python",
   "name": "python3"
  },
  "language_info": {
   "codemirror_mode": {
    "name": "ipython",
    "version": 3
   },
   "file_extension": ".py",
   "mimetype": "text/x-python",
   "name": "python",
   "nbconvert_exporter": "python",
   "pygments_lexer": "ipython3",
   "version": "3.9.13"
  }
 },
 "nbformat": 4,
 "nbformat_minor": 5
}
