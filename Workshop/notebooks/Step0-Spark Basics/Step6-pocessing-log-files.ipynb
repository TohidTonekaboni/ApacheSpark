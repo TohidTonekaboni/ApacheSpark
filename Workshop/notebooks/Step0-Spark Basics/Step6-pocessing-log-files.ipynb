{
 "cells": [
  {
   "cell_type": "code",
   "execution_count": 2,
   "metadata": {
    "colab": {
     "base_uri": "https://localhost:8080/",
     "height": 223
    },
    "id": "307kZWe_1Fza",
    "outputId": "b8f1b3ad-3d8f-4034-8baf-417521857d2c"
   },
   "outputs": [
    {
     "data": {
      "text/html": [
       "\n",
       "            <div>\n",
       "                <p><b>SparkSession - in-memory</b></p>\n",
       "                \n",
       "        <div>\n",
       "            <p><b>SparkContext</b></p>\n",
       "\n",
       "            <p><a href=\"http://pyspark:4040\">Spark UI</a></p>\n",
       "\n",
       "            <dl>\n",
       "              <dt>Version</dt>\n",
       "                <dd><code>v3.1.2</code></dd>\n",
       "              <dt>Master</dt>\n",
       "                <dd><code>spark://spark-master:7077</code></dd>\n",
       "              <dt>AppName</dt>\n",
       "                <dd><code>Step4-Logs</code></dd>\n",
       "            </dl>\n",
       "        </div>\n",
       "        \n",
       "            </div>\n",
       "        "
      ],
      "text/plain": [
       "<pyspark.sql.session.SparkSession at 0x7f34aa99beb8>"
      ]
     },
     "execution_count": 2,
     "metadata": {},
     "output_type": "execute_result"
    }
   ],
   "source": [
    "from pyspark.sql import SparkSession\n",
    "spark = SparkSession.builder \\\n",
    "    .master(\"spark://spark-master:7077\") \\\n",
    "    .appName(\"Step4-Logs\") \\\n",
    "    .config(\"spark.executor.memory\", \"512mb\") \\\n",
    "    .getOrCreate()\n",
    "spark.conf.set(\"spark.sql.repl.eagerEval.enabled\", True) # Property used to format output tables better\n",
    "spark"
   ]
  },
  {
   "cell_type": "markdown",
   "metadata": {
    "id": "DLn-31jU5IEj"
   },
   "source": [
    "## PreProcess"
   ]
  },
  {
   "cell_type": "code",
   "execution_count": 3,
   "metadata": {
    "id": "0XGbW3ATaRV-"
   },
   "outputs": [],
   "source": [
    "from pyspark.sql.functions import *\n",
    "import matplotlib.pyplot as plt\n",
    "import pandas as pd\n",
    "import re\n",
    "# import seaborn as sns"
   ]
  },
  {
   "cell_type": "markdown",
   "metadata": {},
   "source": [
    "#### Sample Logs\n",
    "29.94.144.152 - - [01/Jul/1995:00:00:13 -0400] \"GET / HTTP/1.0\" 200 7074\n",
    "\n",
    "net-1-141.eden.com - - [01/Jul/1995:00:00:19 -0400] \"GET /shuttle/missions/sts-71/images/KSC-95EC-0916.jpg HTTP/1.0\" 200 34029\n",
    "\n",
    "205.189.154.54 - - [01/Jul/1995:00:00:40 -0400] \"GET /images/NASA-logosmall.gif HTTP/1.0\" 200 786"
   ]
  },
  {
   "cell_type": "code",
   "execution_count": 4,
   "metadata": {
    "id": "z4_dfmfp4y12"
   },
   "outputs": [],
   "source": [
    "month_map = {\n",
    "  'Jan': 1, 'Feb': 2, 'Mar':3, 'Apr':4, 'May':5, 'Jun':6, 'Jul':7,\n",
    "  'Aug':8,  'Sep': 9, 'Oct':10, 'Nov': 11, 'Dec': 12\n",
    "}\n",
    "\n",
    "def parse_clf_time(text):\n",
    "    try:\n",
    "        return \"{0:04d}-{1:02d}-{2:02d} {3:02d}:{4:02d}:{5:02d}\".format(\n",
    "        int(text[7:11]),month_map[text[3:6]],int(text[0:2]),\n",
    "        int(text[12:14]),int(text[15:17]),int(text[18:20]))\n",
    "    except:\n",
    "        return None"
   ]
  },
  {
   "cell_type": "code",
   "execution_count": 5,
   "metadata": {
    "colab": {
     "base_uri": "https://localhost:8080/"
    },
    "id": "4N7Q_Q-A1JIC",
    "outputId": "8f6d6458-b7a5-4a71-c4c3-24b37a9fd4b2"
   },
   "outputs": [
    {
     "name": "stderr",
     "output_type": "stream",
     "text": [
      "[Stage 1:>                                                          (0 + 1) / 1]\r"
     ]
    },
    {
     "name": "stdout",
     "output_type": "stream",
     "text": [
      "+--------------------+------+-----+------+--------------------+--------+----------+\n",
      "|               Hosts|Status|Bytes|Method|            Endpoint|Protocol|      Date|\n",
      "+--------------------+------+-----+------+--------------------+--------+----------+\n",
      "|      129.94.144.152|   200| 7074|   GET|                   /|HTTP/1.0|1995-07-01|\n",
      "|  net-1-141.eden.com|   200|34029|   GET|/shuttle/missions...|HTTP/1.0|1995-07-01|\n",
      "|      205.189.154.54|   200|  786|   GET|/images/NASA-logo...|HTTP/1.0|1995-07-01|\n",
      "|   scheyer.clark.net|   200|49152|   GET|/shuttle/missions...|HTTP/1.0|1995-07-01|\n",
      "|www-a1.proxy.aol.com|   200| 3985|   GET| /shuttle/countdown/|HTTP/1.0|1995-07-01|\n",
      "+--------------------+------+-----+------+--------------------+--------+----------+\n",
      "only showing top 5 rows\n",
      "\n"
     ]
    },
    {
     "name": "stderr",
     "output_type": "stream",
     "text": [
      "\r",
      "                                                                                \r"
     ]
    }
   ],
   "source": [
    "file_path = '/opt/spark-data/logs/Log'\n",
    "df = spark.read.csv(file_path, header=False, sep=\" \")\n",
    "df = df.withColumnRenamed('_c0', 'Hosts') \\\n",
    "       .withColumnRenamed('_c1', 'R1') \\\n",
    "       .withColumnRenamed('_c2', 'R2')\\\n",
    "       .withColumnRenamed('_c3', 'Time')\\\n",
    "       .withColumnRenamed('_c4', 'R3')\\\n",
    "       .withColumnRenamed('_c5', 'Request')\\\n",
    "       .withColumnRenamed('_c6', 'Status')\\\n",
    "       .withColumnRenamed('_c7', 'Bytes')\n",
    "df=df.withColumn('Time', regexp_replace('Time', '\\[', ''))\n",
    "df=df.withColumn('Method', split(df.Request, ' ').getItem(0)) \\\n",
    "       .withColumn('Endpoint', split(df.Request, ' ').getItem(1)) \\\n",
    "       .withColumn('Protocol', split(df.Request, ' ').getItem(2))\n",
    "udf_parse_time = udf(parse_clf_time)\n",
    "df = df.withColumn(\"Time\", udf_parse_time(df['Time']).cast('timestamp'))\n",
    "df = df.withColumn(\"Date\",to_date(col(\"Time\"),\"yyyy-MM-dd\"))\n",
    "df = df.drop('R1').drop('R2').drop('R3').drop('Request').drop('Time')\n",
    "df = df.filter(df.Date.isNotNull())\n",
    "df.show(5)"
   ]
  },
  {
   "cell_type": "code",
   "execution_count": 6,
   "metadata": {},
   "outputs": [
    {
     "name": "stderr",
     "output_type": "stream",
     "text": [
      "                                                                                \r"
     ]
    },
    {
     "data": {
      "text/html": [
       "<table border='1'>\n",
       "<tr><th>Hosts</th><th>Status</th><th>Bytes</th><th>Method</th><th>Endpoint</th><th>Protocol</th><th>Date</th></tr>\n",
       "<tr><td>129.94.144.152</td><td>200</td><td>7074</td><td>GET</td><td>/</td><td>HTTP/1.0</td><td>1995-07-01</td></tr>\n",
       "<tr><td>net-1-141.eden.com</td><td>200</td><td>34029</td><td>GET</td><td>/shuttle/missions...</td><td>HTTP/1.0</td><td>1995-07-01</td></tr>\n",
       "<tr><td>205.189.154.54</td><td>200</td><td>786</td><td>GET</td><td>/images/NASA-logo...</td><td>HTTP/1.0</td><td>1995-07-01</td></tr>\n",
       "<tr><td>scheyer.clark.net</td><td>200</td><td>49152</td><td>GET</td><td>/shuttle/missions...</td><td>HTTP/1.0</td><td>1995-07-01</td></tr>\n",
       "<tr><td>www-a1.proxy.aol.com</td><td>200</td><td>3985</td><td>GET</td><td>/shuttle/countdown/</td><td>HTTP/1.0</td><td>1995-07-01</td></tr>\n",
       "<tr><td>smyth-pc.moorecap...</td><td>200</td><td>2261</td><td>GET</td><td>/history/apollo/a...</td><td>HTTP/1.0</td><td>1995-07-01</td></tr>\n",
       "<tr><td>port26.annex2.nwl...</td><td>200</td><td>234</td><td>GET</td><td>/images/USA-logos...</td><td>HTTP/1.0</td><td>1995-07-01</td></tr>\n",
       "<tr><td>gater4.sematech.org</td><td>200</td><td>3985</td><td>GET</td><td>/shuttle/countdown/</td><td>HTTP/1.0</td><td>1995-07-01</td></tr>\n",
       "<tr><td>remote27.compusma...</td><td>302</td><td>110</td><td>GET</td><td>/cgi-bin/imagemap...</td><td>HTTP/1.0</td><td>1995-07-01</td></tr>\n",
       "<tr><td>pm13.j51.com</td><td>200</td><td>305722</td><td>GET</td><td>/shuttle/missions...</td><td>HTTP/1.0</td><td>1995-07-01</td></tr>\n",
       "<tr><td>ix-or10-06.ix.net...</td><td>200</td><td>3293</td><td>GET</td><td>/software/winvn/u...</td><td>HTTP/1.0</td><td>1995-07-01</td></tr>\n",
       "<tr><td>smyth-pc.moorecap...</td><td>200</td><td>18149</td><td>GET</td><td>/history/apollo/i...</td><td>HTTP/1.0</td><td>1995-07-01</td></tr>\n",
       "<tr><td>unicomp6.unicomp.net</td><td>200</td><td>3635</td><td>GET</td><td>/images/ksclogosm...</td><td>HTTP/1.0</td><td>1995-07-01</td></tr>\n",
       "<tr><td>dynip42.efn.org</td><td>200</td><td>527</td><td>GET</td><td>/icons/text.xbm</td><td>HTTP/1.0</td><td>1995-07-01</td></tr>\n",
       "<tr><td>ix-or10-06.ix.net...</td><td>200</td><td>2244</td><td>GET</td><td>/software/winvn/</td><td>HTTP/1.0</td><td>1995-07-01</td></tr>\n",
       "<tr><td>teleman.pr.mcs.net</td><td>304</td><td>0</td><td>GET</td><td>/msfc/astro_home....</td><td>HTTP/1.0</td><td>1995-07-01</td></tr>\n",
       "<tr><td>ppp-nyc-3-1.ios.com</td><td>200</td><td>40310</td><td>GET</td><td>/shuttle/countdow...</td><td>HTTP/1.0</td><td>1995-07-01</td></tr>\n",
       "<tr><td>ppp-nyc-3-1.ios.com</td><td>200</td><td>12054</td><td>GET</td><td>/shuttle/missions...</td><td>HTTP/1.0</td><td>1995-07-01</td></tr>\n",
       "<tr><td>charger.execpc.com</td><td>200</td><td>1204</td><td>GET</td><td>/images/KSC-logos...</td><td>HTTP/1.0</td><td>1995-07-01</td></tr>\n",
       "<tr><td>midcom.com</td><td>200</td><td>12859</td><td>GET</td><td>/history/apollo/a...</td><td>HTTP/1.0</td><td>1995-07-01</td></tr>\n",
       "</table>\n",
       "only showing top 20 rows\n"
      ],
      "text/plain": [
       "+--------------------+------+------+------+--------------------+--------+----------+\n",
       "|               Hosts|Status| Bytes|Method|            Endpoint|Protocol|      Date|\n",
       "+--------------------+------+------+------+--------------------+--------+----------+\n",
       "|      129.94.144.152|   200|  7074|   GET|                   /|HTTP/1.0|1995-07-01|\n",
       "|  net-1-141.eden.com|   200| 34029|   GET|/shuttle/missions...|HTTP/1.0|1995-07-01|\n",
       "|      205.189.154.54|   200|   786|   GET|/images/NASA-logo...|HTTP/1.0|1995-07-01|\n",
       "|   scheyer.clark.net|   200| 49152|   GET|/shuttle/missions...|HTTP/1.0|1995-07-01|\n",
       "|www-a1.proxy.aol.com|   200|  3985|   GET| /shuttle/countdown/|HTTP/1.0|1995-07-01|\n",
       "|smyth-pc.moorecap...|   200|  2261|   GET|/history/apollo/a...|HTTP/1.0|1995-07-01|\n",
       "|port26.annex2.nwl...|   200|   234|   GET|/images/USA-logos...|HTTP/1.0|1995-07-01|\n",
       "| gater4.sematech.org|   200|  3985|   GET| /shuttle/countdown/|HTTP/1.0|1995-07-01|\n",
       "|remote27.compusma...|   302|   110|   GET|/cgi-bin/imagemap...|HTTP/1.0|1995-07-01|\n",
       "|        pm13.j51.com|   200|305722|   GET|/shuttle/missions...|HTTP/1.0|1995-07-01|\n",
       "|ix-or10-06.ix.net...|   200|  3293|   GET|/software/winvn/u...|HTTP/1.0|1995-07-01|\n",
       "|smyth-pc.moorecap...|   200| 18149|   GET|/history/apollo/i...|HTTP/1.0|1995-07-01|\n",
       "|unicomp6.unicomp.net|   200|  3635|   GET|/images/ksclogosm...|HTTP/1.0|1995-07-01|\n",
       "|     dynip42.efn.org|   200|   527|   GET|     /icons/text.xbm|HTTP/1.0|1995-07-01|\n",
       "|ix-or10-06.ix.net...|   200|  2244|   GET|    /software/winvn/|HTTP/1.0|1995-07-01|\n",
       "|  teleman.pr.mcs.net|   304|     0|   GET|/msfc/astro_home....|HTTP/1.0|1995-07-01|\n",
       "| ppp-nyc-3-1.ios.com|   200| 40310|   GET|/shuttle/countdow...|HTTP/1.0|1995-07-01|\n",
       "| ppp-nyc-3-1.ios.com|   200| 12054|   GET|/shuttle/missions...|HTTP/1.0|1995-07-01|\n",
       "|  charger.execpc.com|   200|  1204|   GET|/images/KSC-logos...|HTTP/1.0|1995-07-01|\n",
       "|          midcom.com|   200| 12859|   GET|/history/apollo/a...|HTTP/1.0|1995-07-01|\n",
       "+--------------------+------+------+------+--------------------+--------+----------+\n",
       "only showing top 20 rows"
      ]
     },
     "execution_count": 6,
     "metadata": {},
     "output_type": "execute_result"
    }
   ],
   "source": [
    "df.cache()"
   ]
  },
  {
   "cell_type": "markdown",
   "metadata": {
    "id": "M20XfZPi5Mpr"
   },
   "source": [
    "### Q1"
   ]
  },
  {
   "cell_type": "code",
   "execution_count": 7,
   "metadata": {
    "colab": {
     "base_uri": "https://localhost:8080/"
    },
    "id": "wzVHusgJ5MMi",
    "outputId": "472754ba-b561-469e-f441-198af551854f"
   },
   "outputs": [
    {
     "name": "stderr",
     "output_type": "stream",
     "text": [
      "                                                                                \r"
     ]
    },
    {
     "data": {
      "text/plain": [
       "19243"
      ]
     },
     "execution_count": 7,
     "metadata": {},
     "output_type": "execute_result"
    }
   ],
   "source": [
    "df.select('Hosts').distinct().count()"
   ]
  },
  {
   "cell_type": "markdown",
   "metadata": {
    "id": "JdBpl1ZP5SzT"
   },
   "source": [
    "### Q2"
   ]
  },
  {
   "cell_type": "code",
   "execution_count": 8,
   "metadata": {
    "colab": {
     "base_uri": "https://localhost:8080/"
    },
    "id": "2R8MJz7xVEva",
    "outputId": "20a17bec-c397-40e2-f457-0feb14585d18"
   },
   "outputs": [
    {
     "name": "stderr",
     "output_type": "stream",
     "text": [
      "[Stage 9:======================================================>(197 + 1) / 200]\r"
     ]
    },
    {
     "name": "stdout",
     "output_type": "stream",
     "text": [
      "+----------------------+------------------+\n",
      "|Hosts                 |Daily_Visit_AVG   |\n",
      "+----------------------+------------------+\n",
      "|piweba3y.prodigy.com  |81.42857142857143 |\n",
      "|alyssa.prodigy.com    |48.142857142857146|\n",
      "|pcrb.ccrs.emr.ca      |45.0              |\n",
      "|spidey.cor.epa.gov    |41.0              |\n",
      "|piweba4y.prodigy.com  |34.5              |\n",
      "|piweba1y.prodigy.com  |34.42857142857143 |\n",
      "|hunter.ecs.soton.ac.uk|31.0              |\n",
      "|burger.letters.com    |30.0              |\n",
      "|www-b6.proxy.aol.com  |28.142857142857142|\n",
      "|disarray.demon.co.uk  |28.0              |\n",
      "|192.77.52.12          |26.0              |\n",
      "|webgate1.mot.com      |24.5              |\n",
      "|dip099.pixi.com       |24.0              |\n",
      "|128.158.21.220        |23.0              |\n",
      "|piweba2y.prodigy.com  |22.857142857142858|\n",
      "|dawn14.cs.berkeley.edu|22.0              |\n",
      "|mica.saglac.qc.ca     |21.0              |\n",
      "|news.ti.com           |20.428571428571427|\n",
      "|d202.aa.net           |20.0              |\n",
      "|134.83.184.18         |20.0              |\n",
      "+----------------------+------------------+\n",
      "only showing top 20 rows\n",
      "\n"
     ]
    },
    {
     "name": "stderr",
     "output_type": "stream",
     "text": [
      "\r",
      "                                                                                \r"
     ]
    }
   ],
   "source": [
    "df_grouped = df.groupBy('Hosts','Date').count()\n",
    "df_avg_req = df_grouped.groupBy('Hosts').avg().withColumnRenamed(\"avg(count)\",\"Daily_Visit_AVG\")\n",
    "df_avg_req.sort(\"Daily_Visit_AVG\", ascending=False).show(truncate=False)"
   ]
  },
  {
   "cell_type": "markdown",
   "metadata": {
    "id": "llC5cx3KbuVq"
   },
   "source": [
    "### Q3"
   ]
  },
  {
   "cell_type": "code",
   "execution_count": 40,
   "metadata": {
    "colab": {
     "base_uri": "https://localhost:8080/"
    },
    "id": "y-wRmw-kViLS",
    "outputId": "8821c209-95f4-45d7-e26b-16bd9a59e369"
   },
   "outputs": [
    {
     "data": {
      "text/plain": [
       "25920"
      ]
     },
     "execution_count": 40,
     "metadata": {},
     "output_type": "execute_result"
    }
   ],
   "source": [
    "df.filter(df.Endpoint.like('%.gif')&df.Method.like('GET')).count()"
   ]
  },
  {
   "cell_type": "markdown",
   "metadata": {
    "id": "nQ1OMsncdiFy"
   },
   "source": [
    "### Q4"
   ]
  },
  {
   "cell_type": "code",
   "execution_count": 41,
   "metadata": {
    "colab": {
     "base_uri": "https://localhost:8080/",
     "height": 363
    },
    "id": "jPVX3HJfcjKK",
    "outputId": "d489749c-4012-4f68-969a-3d5b8c8fa07c",
    "scrolled": true
   },
   "outputs": [
    {
     "name": "stderr",
     "output_type": "stream",
     "text": [
      "                                                                                \r"
     ]
    },
    {
     "data": {
      "text/html": [
       "<div>\n",
       "<style scoped>\n",
       "    .dataframe tbody tr th:only-of-type {\n",
       "        vertical-align: middle;\n",
       "    }\n",
       "\n",
       "    .dataframe tbody tr th {\n",
       "        vertical-align: top;\n",
       "    }\n",
       "\n",
       "    .dataframe thead th {\n",
       "        text-align: right;\n",
       "    }\n",
       "</style>\n",
       "<table border=\"1\" class=\"dataframe\">\n",
       "  <thead>\n",
       "    <tr style=\"text-align: right;\">\n",
       "      <th></th>\n",
       "      <th>Hosts</th>\n",
       "      <th>count</th>\n",
       "    </tr>\n",
       "  </thead>\n",
       "  <tbody>\n",
       "    <tr>\n",
       "      <th>0</th>\n",
       "      <td>piweba3y.prodigy.com</td>\n",
       "      <td>570</td>\n",
       "    </tr>\n",
       "    <tr>\n",
       "      <th>1</th>\n",
       "      <td>alyssa.prodigy.com</td>\n",
       "      <td>337</td>\n",
       "    </tr>\n",
       "    <tr>\n",
       "      <th>2</th>\n",
       "      <td>piweba1y.prodigy.com</td>\n",
       "      <td>241</td>\n",
       "    </tr>\n",
       "    <tr>\n",
       "      <th>3</th>\n",
       "      <td>www-b6.proxy.aol.com</td>\n",
       "      <td>197</td>\n",
       "    </tr>\n",
       "    <tr>\n",
       "      <th>4</th>\n",
       "      <td>disarray.demon.co.uk</td>\n",
       "      <td>196</td>\n",
       "    </tr>\n",
       "    <tr>\n",
       "      <th>5</th>\n",
       "      <td>piweba2y.prodigy.com</td>\n",
       "      <td>160</td>\n",
       "    </tr>\n",
       "    <tr>\n",
       "      <th>6</th>\n",
       "      <td>news.ti.com</td>\n",
       "      <td>143</td>\n",
       "    </tr>\n",
       "    <tr>\n",
       "      <th>7</th>\n",
       "      <td>www-d4.proxy.aol.com</td>\n",
       "      <td>134</td>\n",
       "    </tr>\n",
       "    <tr>\n",
       "      <th>8</th>\n",
       "      <td>poppy.hensa.ac.uk</td>\n",
       "      <td>133</td>\n",
       "    </tr>\n",
       "    <tr>\n",
       "      <th>9</th>\n",
       "      <td>advantis.vnet.ibm.com</td>\n",
       "      <td>124</td>\n",
       "    </tr>\n",
       "  </tbody>\n",
       "</table>\n",
       "</div>"
      ],
      "text/plain": [
       "                   Hosts  count\n",
       "0   piweba3y.prodigy.com    570\n",
       "1     alyssa.prodigy.com    337\n",
       "2   piweba1y.prodigy.com    241\n",
       "3   www-b6.proxy.aol.com    197\n",
       "4   disarray.demon.co.uk    196\n",
       "5   piweba2y.prodigy.com    160\n",
       "6            news.ti.com    143\n",
       "7   www-d4.proxy.aol.com    134\n",
       "8      poppy.hensa.ac.uk    133\n",
       "9  advantis.vnet.ibm.com    124"
      ]
     },
     "execution_count": 41,
     "metadata": {},
     "output_type": "execute_result"
    }
   ],
   "source": [
    "df_hosts = df.filter(df[\"Hosts\"].rlike('(?:[0-9]{1,3}\\.){3}[0-9]{1,3}')==False)\n",
    "df_ordered = df_hosts.groupby('Hosts').count()\n",
    "df_ordered = df_ordered.where(\"count > 3\")\n",
    "df_ordered.sort(\"count\", ascending=False).limit(10).toPandas()"
   ]
  },
  {
   "cell_type": "code",
   "execution_count": 42,
   "metadata": {
    "colab": {
     "base_uri": "https://localhost:8080/",
     "height": 677
    },
    "id": "rPOLMVLFkUJr",
    "outputId": "f27429ac-8e1a-4b4c-c73e-03798d19a6dd"
   },
   "outputs": [
    {
     "name": "stderr",
     "output_type": "stream",
     "text": [
      "                                                                                \r"
     ]
    },
    {
     "data": {
      "text/html": [
       "<div>\n",
       "<style scoped>\n",
       "    .dataframe tbody tr th:only-of-type {\n",
       "        vertical-align: middle;\n",
       "    }\n",
       "\n",
       "    .dataframe tbody tr th {\n",
       "        vertical-align: top;\n",
       "    }\n",
       "\n",
       "    .dataframe thead th {\n",
       "        text-align: right;\n",
       "    }\n",
       "</style>\n",
       "<table border=\"1\" class=\"dataframe\">\n",
       "  <thead>\n",
       "    <tr style=\"text-align: right;\">\n",
       "      <th></th>\n",
       "      <th>Date</th>\n",
       "      <th>Hosts</th>\n",
       "      <th>count</th>\n",
       "    </tr>\n",
       "  </thead>\n",
       "  <tbody>\n",
       "    <tr>\n",
       "      <th>0</th>\n",
       "      <td>1995-07-07</td>\n",
       "      <td>piweba3y.prodigy.com</td>\n",
       "      <td>18</td>\n",
       "    </tr>\n",
       "    <tr>\n",
       "      <th>1</th>\n",
       "      <td>1995-07-06</td>\n",
       "      <td>piweba3y.prodigy.com</td>\n",
       "      <td>81</td>\n",
       "    </tr>\n",
       "    <tr>\n",
       "      <th>2</th>\n",
       "      <td>1995-07-05</td>\n",
       "      <td>piweba3y.prodigy.com</td>\n",
       "      <td>85</td>\n",
       "    </tr>\n",
       "    <tr>\n",
       "      <th>3</th>\n",
       "      <td>1995-07-04</td>\n",
       "      <td>piweba3y.prodigy.com</td>\n",
       "      <td>111</td>\n",
       "    </tr>\n",
       "    <tr>\n",
       "      <th>4</th>\n",
       "      <td>1995-07-03</td>\n",
       "      <td>piweba3y.prodigy.com</td>\n",
       "      <td>116</td>\n",
       "    </tr>\n",
       "    <tr>\n",
       "      <th>5</th>\n",
       "      <td>1995-07-02</td>\n",
       "      <td>piweba3y.prodigy.com</td>\n",
       "      <td>100</td>\n",
       "    </tr>\n",
       "    <tr>\n",
       "      <th>6</th>\n",
       "      <td>1995-07-01</td>\n",
       "      <td>piweba3y.prodigy.com</td>\n",
       "      <td>59</td>\n",
       "    </tr>\n",
       "  </tbody>\n",
       "</table>\n",
       "</div>"
      ],
      "text/plain": [
       "         Date                 Hosts  count\n",
       "0  1995-07-07  piweba3y.prodigy.com     18\n",
       "1  1995-07-06  piweba3y.prodigy.com     81\n",
       "2  1995-07-05  piweba3y.prodigy.com     85\n",
       "3  1995-07-04  piweba3y.prodigy.com    111\n",
       "4  1995-07-03  piweba3y.prodigy.com    116\n",
       "5  1995-07-02  piweba3y.prodigy.com    100\n",
       "6  1995-07-01  piweba3y.prodigy.com     59"
      ]
     },
     "execution_count": 42,
     "metadata": {},
     "output_type": "execute_result"
    }
   ],
   "source": [
    "df_hosts = df.filter(df[\"Hosts\"].rlike('(?:[0-9]{1,3}\\.){3}[0-9]{1,3}')==False)\n",
    "df_grouped = df_hosts.groupBy('Hosts','Date').count()\n",
    "max_day_hosts = (df_grouped.groupBy('Date')\\\n",
    "    .agg(max(struct(col(\"count\"), col(\"Hosts\")))\\\n",
    "    .alias(\"max\")).select(col(\"Date\"), col(\"max.Hosts\"),col(\"max.count\")))\n",
    "max_day_hosts=max_day_hosts.sort(\"Date\", ascending=False)\n",
    "max_day_hosts.limit(20).toPandas()"
   ]
  },
  {
   "cell_type": "markdown",
   "metadata": {
    "id": "UcJDBasroF9D"
   },
   "source": [
    "### Q5"
   ]
  },
  {
   "cell_type": "code",
   "execution_count": 9,
   "metadata": {
    "id": "01A8cM4nnq8L"
   },
   "outputs": [
    {
     "name": "stderr",
     "output_type": "stream",
     "text": [
      "                                                                                \r"
     ]
    }
   ],
   "source": [
    "res_df = df.filter(df['Status']!=200).groupBy('Status').count().collect()\n",
    "res_df = pd.DataFrame(res_df)\n",
    "res_df.columns=['Status','Count']"
   ]
  },
  {
   "cell_type": "code",
   "execution_count": 10,
   "metadata": {
    "colab": {
     "base_uri": "https://localhost:8080/",
     "height": 513
    },
    "id": "rmqvZn0-mZD4",
    "outputId": "babba2d7-8069-4387-839f-dd1a2f8d3db9"
   },
   "outputs": [
    {
     "name": "stdout",
     "output_type": "stream",
     "text": [
      "Collecting seaborn\n",
      "  Downloading seaborn-0.11.2-py3-none-any.whl (292 kB)\n",
      "\u001b[K     |████████████████████████████████| 292 kB 108 kB/s eta 0:00:01\n",
      "\u001b[?25hRequirement already satisfied: pandas>=0.23 in /usr/lib/python3/dist-packages (from seaborn) (0.23.3+dfsg)\n",
      "Requirement already satisfied: numpy>=1.15 in /usr/local/lib/python3.7/dist-packages (from seaborn) (1.21.2)\n",
      "Requirement already satisfied: scipy>=1.0 in /usr/lib/python3/dist-packages (from seaborn) (1.1.0)\n",
      "Requirement already satisfied: matplotlib>=2.2 in /usr/lib/python3/dist-packages (from seaborn) (3.0.2)\n",
      "Installing collected packages: seaborn\n",
      "Successfully installed seaborn-0.11.2\n",
      "\u001b[33mWARNING: Running pip as the 'root' user can result in broken permissions and conflicting behaviour with the system package manager. It is recommended to use a virtual environment instead: https://pip.pypa.io/warnings/venv\u001b[0m\n"
     ]
    },
    {
     "data": {
      "image/png": "[encoded data removed]",
      "text/plain": [
       "<Figure size 864x576 with 1 Axes>"
      ]
     },
     "metadata": {
      "needs_background": "light"
     },
     "output_type": "display_data"
    }
   ],
   "source": [
    "!pip3 install seaborn\n",
    "import seaborn as sns\n",
    "plt.figure(figsize=(12,8))\n",
    "sns.barplot(x='Status',y='Count',data=res_df)\n",
    "plt.title('Request Status Codes Count (Log Plot)')\n",
    "plt.yscale('log')"
   ]
  },
  {
   "cell_type": "code",
   "execution_count": 11,
   "metadata": {},
   "outputs": [],
   "source": [
    "spark.stop()"
   ]
  },
  {
   "cell_type": "code",
   "execution_count": null,
   "metadata": {},
   "outputs": [],
   "source": []
  }
 ],
 "metadata": {
  "colab": {
   "collapsed_sections": [],
   "name": "BigData_HW3_Q2.ipynb",
   "provenance": [],
   "toc_visible": true
  },
  "kernelspec": {
   "display_name": "Python 3 (ipykernel)",
   "language": "python",
   "name": "python3"
  },
  "language_info": {
   "codemirror_mode": {
    "name": "ipython",
    "version": 3
   },
   "file_extension": ".py",
   "mimetype": "text/x-python",
   "name": "python",
   "nbconvert_exporter": "python",
   "pygments_lexer": "ipython3",
   "version": "3.9.13"
  }
 },
 "nbformat": 4,
 "nbformat_minor": 4
}
