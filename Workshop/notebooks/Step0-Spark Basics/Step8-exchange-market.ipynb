{
 "cells": [
  {
   "cell_type": "code",
   "execution_count": 3,
   "metadata": {
    "colab": {
     "base_uri": "https://localhost:8080/",
     "height": 223
    },
    "id": "zkvJlMJ3vZqm",
    "outputId": "33eb6ee9-01fe-4908-af7e-ac2f9959d1e1"
   },
   "outputs": [
    {
     "data": {
      "text/html": [
       "\n",
       "            <div>\n",
       "                <p><b>SparkSession - in-memory</b></p>\n",
       "                \n",
       "        <div>\n",
       "            <p><b>SparkContext</b></p>\n",
       "\n",
       "            <p><a href=\"http://pyspark:4040\">Spark UI</a></p>\n",
       "\n",
       "            <dl>\n",
       "              <dt>Version</dt>\n",
       "                <dd><code>v3.1.2</code></dd>\n",
       "              <dt>Master</dt>\n",
       "                <dd><code>spark://spark-master:7077</code></dd>\n",
       "              <dt>AppName</dt>\n",
       "                <dd><code>Step6-Trades</code></dd>\n",
       "            </dl>\n",
       "        </div>\n",
       "        \n",
       "            </div>\n",
       "        "
      ],
      "text/plain": [
       "<pyspark.sql.session.SparkSession at 0x7ff198220048>"
      ]
     },
     "execution_count": 3,
     "metadata": {},
     "output_type": "execute_result"
    }
   ],
   "source": [
    "from pyspark.sql import SparkSession\n",
    "spark = SparkSession.builder \\\n",
    "    .master(\"spark://spark-master:7077\") \\\n",
    "    .appName(\"Step6-Trades\") \\\n",
    "    .config(\"spark.executor.memory\", \"500mb\") \\\n",
    "    .getOrCreate()\n",
    "spark.conf.set(\"spark.sql.repl.eagerEval.enabled\", True) # Property used to format output tables better\n",
    "spark"
   ]
  },
  {
   "cell_type": "code",
   "execution_count": 5,
   "metadata": {
    "id": "pdkDG1ZIviw2"
   },
   "outputs": [],
   "source": [
    "from pyspark.sql.functions import *\n",
    "from pyspark.sql.types import IntegerType, StringType, DoubleType, BooleanType\n",
    "from pyspark.sql.types import StructType, StructField\n",
    "import matplotlib.pyplot as plt\n",
    "import pandas as pd\n",
    "import re\n",
    "import seaborn as sns\n",
    "from os import listdir\n",
    "from os.path import isfile, join"
   ]
  },
  {
   "cell_type": "markdown",
   "metadata": {
    "id": "M-gCB6wu5Ffg"
   },
   "source": [
    "## Spark DataFrame"
   ]
  },
  {
   "cell_type": "markdown",
   "metadata": {
    "id": "8CnGt-H25AXv"
   },
   "source": [
    "### Q1"
   ]
  },
  {
   "cell_type": "code",
   "execution_count": 6,
   "metadata": {},
   "outputs": [
    {
     "name": "stdout",
     "output_type": "stream",
     "text": [
      "total 624K\r\n",
      "-rwxrwxrwx 1 root root 124K Sep 12 07:05 1400-6-13.csv\r\n",
      "-rwxrwxrwx 1 root root 123K Sep 12 07:05 1400-6-14.csv\r\n",
      "-rwxrwxrwx 1 root root 125K Sep 12 07:06 1400-6-15.csv\r\n",
      "-rwxrwxrwx 1 root root 123K Sep 12 07:07 1400-6-16.csv\r\n",
      "-rwxrwxrwx 1 root root 121K Sep 12 07:04 1400-6-20.csv\r\n"
     ]
    }
   ],
   "source": [
    "!ls -lh /opt/spark-data/trades/1400"
   ]
  },
  {
   "cell_type": "code",
   "execution_count": 8,
   "metadata": {
    "colab": {
     "base_uri": "https://localhost:8080/",
     "height": 363
    },
    "id": "ET0i6xle3Fz4",
    "outputId": "704f874f-ff48-49a3-8267-6f9ea29bfaa9"
   },
   "outputs": [
    {
     "name": "stderr",
     "output_type": "stream",
     "text": [
      "                                                                                \r"
     ]
    },
    {
     "data": {
      "text/html": [
       "<div>\n",
       "<style scoped>\n",
       "    .dataframe tbody tr th:only-of-type {\n",
       "        vertical-align: middle;\n",
       "    }\n",
       "\n",
       "    .dataframe tbody tr th {\n",
       "        vertical-align: top;\n",
       "    }\n",
       "\n",
       "    .dataframe thead th {\n",
       "        text-align: right;\n",
       "    }\n",
       "</style>\n",
       "<table border=\"1\" class=\"dataframe\">\n",
       "  <thead>\n",
       "    <tr style=\"text-align: right;\">\n",
       "      <th></th>\n",
       "      <th>نماد</th>\n",
       "      <th>قیمت پایانی - مقدار</th>\n",
       "    </tr>\n",
       "  </thead>\n",
       "  <tbody>\n",
       "    <tr>\n",
       "      <th>0</th>\n",
       "      <td>پست0008پ08</td>\n",
       "      <td>1832888</td>\n",
       "    </tr>\n",
       "    <tr>\n",
       "      <th>1</th>\n",
       "      <td>سكه0011پ02</td>\n",
       "      <td>1211746</td>\n",
       "    </tr>\n",
       "    <tr>\n",
       "      <th>2</th>\n",
       "      <td>سكه0012پ01</td>\n",
       "      <td>1210725</td>\n",
       "    </tr>\n",
       "    <tr>\n",
       "      <th>3</th>\n",
       "      <td>سكه0112پ03</td>\n",
       "      <td>1208117</td>\n",
       "    </tr>\n",
       "    <tr>\n",
       "      <th>4</th>\n",
       "      <td>سكه0012پ04</td>\n",
       "      <td>1207103</td>\n",
       "    </tr>\n",
       "    <tr>\n",
       "      <th>5</th>\n",
       "      <td>سكه0111پ05</td>\n",
       "      <td>1204265</td>\n",
       "    </tr>\n",
       "    <tr>\n",
       "      <th>6</th>\n",
       "      <td>صملي4042</td>\n",
       "      <td>1000000</td>\n",
       "    </tr>\n",
       "    <tr>\n",
       "      <th>7</th>\n",
       "      <td>اراد61</td>\n",
       "      <td>1000000</td>\n",
       "    </tr>\n",
       "    <tr>\n",
       "      <th>8</th>\n",
       "      <td>اراد24</td>\n",
       "      <td>1000000</td>\n",
       "    </tr>\n",
       "    <tr>\n",
       "      <th>9</th>\n",
       "      <td>اراد50</td>\n",
       "      <td>1000000</td>\n",
       "    </tr>\n",
       "  </tbody>\n",
       "</table>\n",
       "</div>"
      ],
      "text/plain": [
       "         نماد  قیمت پایانی - مقدار\n",
       "0  پست0008پ08              1832888\n",
       "1  سكه0011پ02              1211746\n",
       "2  سكه0012پ01              1210725\n",
       "3  سكه0112پ03              1208117\n",
       "4  سكه0012پ04              1207103\n",
       "5  سكه0111پ05              1204265\n",
       "6    صملي4042              1000000\n",
       "7      اراد61              1000000\n",
       "8      اراد24              1000000\n",
       "9      اراد50              1000000"
      ]
     },
     "execution_count": 8,
     "metadata": {},
     "output_type": "execute_result"
    }
   ],
   "source": [
    "last_day_file_path = '/opt/spark-data/trades/1400/1400-6-20.csv'\n",
    "df = spark.read.option(\"header\",True).csv(last_day_file_path)\n",
    "df = df.withColumn(\"قیمت پایانی - مقدار\", df[\"قیمت پایانی - مقدار\"].cast(\"int\"))\n",
    "df.orderBy('قیمت پایانی - مقدار',ascending=False)\\\n",
    ".select('نماد','قیمت پایانی - مقدار').limit(10).toPandas()"
   ]
  },
  {
   "cell_type": "code",
   "execution_count": 9,
   "metadata": {
    "colab": {
     "base_uri": "https://localhost:8080/",
     "height": 363
    },
    "id": "pJZyfBCs4FNu",
    "outputId": "35ce2137-dfdb-4345-f0fc-95a8b065d49c"
   },
   "outputs": [
    {
     "name": "stderr",
     "output_type": "stream",
     "text": [
      "                                                                                \r"
     ]
    },
    {
     "data": {
      "text/html": [
       "<div>\n",
       "<style scoped>\n",
       "    .dataframe tbody tr th:only-of-type {\n",
       "        vertical-align: middle;\n",
       "    }\n",
       "\n",
       "    .dataframe tbody tr th {\n",
       "        vertical-align: top;\n",
       "    }\n",
       "\n",
       "    .dataframe thead th {\n",
       "        text-align: right;\n",
       "    }\n",
       "</style>\n",
       "<table border=\"1\" class=\"dataframe\">\n",
       "  <thead>\n",
       "    <tr style=\"text-align: right;\">\n",
       "      <th></th>\n",
       "      <th>نماد</th>\n",
       "      <th>قیمت پایانی - مقدار</th>\n",
       "    </tr>\n",
       "  </thead>\n",
       "  <tbody>\n",
       "    <tr>\n",
       "      <th>0</th>\n",
       "      <td>None</td>\n",
       "      <td>NaN</td>\n",
       "    </tr>\n",
       "    <tr>\n",
       "      <th>1</th>\n",
       "      <td>None</td>\n",
       "      <td>NaN</td>\n",
       "    </tr>\n",
       "    <tr>\n",
       "      <th>2</th>\n",
       "      <td>اطلس2</td>\n",
       "      <td>1.0</td>\n",
       "    </tr>\n",
       "    <tr>\n",
       "      <th>3</th>\n",
       "      <td>كمند2</td>\n",
       "      <td>1.0</td>\n",
       "    </tr>\n",
       "    <tr>\n",
       "      <th>4</th>\n",
       "      <td>كيان2</td>\n",
       "      <td>1.0</td>\n",
       "    </tr>\n",
       "    <tr>\n",
       "      <th>5</th>\n",
       "      <td>امين يكم2</td>\n",
       "      <td>1.0</td>\n",
       "    </tr>\n",
       "    <tr>\n",
       "      <th>6</th>\n",
       "      <td>سحرخيز2</td>\n",
       "      <td>1.0</td>\n",
       "    </tr>\n",
       "    <tr>\n",
       "      <th>7</th>\n",
       "      <td>آكورد2</td>\n",
       "      <td>1.0</td>\n",
       "    </tr>\n",
       "    <tr>\n",
       "      <th>8</th>\n",
       "      <td>هماي2</td>\n",
       "      <td>1.0</td>\n",
       "    </tr>\n",
       "    <tr>\n",
       "      <th>9</th>\n",
       "      <td>عيار2</td>\n",
       "      <td>1.0</td>\n",
       "    </tr>\n",
       "  </tbody>\n",
       "</table>\n",
       "</div>"
      ],
      "text/plain": [
       "        نماد  قیمت پایانی - مقدار\n",
       "0       None                  NaN\n",
       "1       None                  NaN\n",
       "2      اطلس2                  1.0\n",
       "3      كمند2                  1.0\n",
       "4      كيان2                  1.0\n",
       "5  امين يكم2                  1.0\n",
       "6    سحرخيز2                  1.0\n",
       "7     آكورد2                  1.0\n",
       "8      هماي2                  1.0\n",
       "9      عيار2                  1.0"
      ]
     },
     "execution_count": 9,
     "metadata": {},
     "output_type": "execute_result"
    }
   ],
   "source": [
    "df.orderBy('قیمت پایانی - مقدار',ascending=True)\\\n",
    ".select('نماد','قیمت پایانی - مقدار').limit(10).toPandas()"
   ]
  },
  {
   "cell_type": "markdown",
   "metadata": {
    "id": "xb65nTC55jiK"
   },
   "source": [
    "### Q2"
   ]
  },
  {
   "cell_type": "code",
   "execution_count": 10,
   "metadata": {
    "id": "bzwcXf_xxAG_"
   },
   "outputs": [
    {
     "name": "stderr",
     "output_type": "stream",
     "text": [
      "[Stage 9:>                                                          (0 + 1) / 1]\r"
     ]
    },
    {
     "name": "stdout",
     "output_type": "stream",
     "text": [
      "(4635, 17)\n"
     ]
    },
    {
     "name": "stderr",
     "output_type": "stream",
     "text": [
      "\r",
      "                                                                                \r"
     ]
    }
   ],
   "source": [
    "last_day_file_path = '/opt/spark-data/trades/1400/1400-6-20.csv'\n",
    "df = spark.read.option(\"header\",True).csv(last_day_file_path)\n",
    "df = df.withColumn(\"month\", lit(6))\n",
    "df = df.withColumn(\"day\", lit(20))\n",
    "f_path='/opt/spark-data/trades/1400/'\n",
    "onlyfiles = [f for f in listdir(f_path) if isfile(join(f_path, f))]\n",
    "for f in onlyfiles:\n",
    "    if f =='1400-6-20.csv':\n",
    "        continue\n",
    "    tmp = spark.read.option(\"header\",True).csv(f_path+f)\n",
    "    splt_date= f.replace('.csv','').split('-')\n",
    "    month = int(splt_date[1])\n",
    "    day = int(splt_date[2])\n",
    "    tmp = tmp.withColumn(\"month\", lit(month))\n",
    "    tmp = tmp.withColumn(\"day\", lit(day))\n",
    "    df = df.union(tmp)\n",
    "df = df.withColumnRenamed(\"نماد\",\"symbol\")\\\n",
    "    .withColumnRenamed('نام','full_name')\\\n",
    "    .withColumnRenamed('تعداد','quantity')\\\n",
    "    .withColumnRenamed('حجم','volume')\\\n",
    "    .withColumnRenamed('ارزش','value')\\\n",
    "    .withColumnRenamed('دیروز','yesterday_qnt')\\\n",
    "    .withColumnRenamed('اولین','first_order_value')\\\n",
    "    .withColumnRenamed('آخرین معامله - مقدار','last_order_value')\\\n",
    "    .withColumnRenamed('آخرین معامله - تغییر','last_order_value_change')\\\n",
    "    .withColumnRenamed('آخرین معامله - درصد','last_order_value_change_percent')\\\n",
    "    .withColumnRenamed('قیمت پایانی - مقدار','close_price')\\\n",
    "    .withColumnRenamed('قیمت پایانی - تغییر','close_price_change')\\\n",
    "    .withColumnRenamed('قیمت پایانی - درصد','close_price_change_percent')\\\n",
    "    .withColumnRenamed('کمترین','min_price')\\\n",
    "    .withColumnRenamed('بیشترین','max_price')\n",
    "df=df.drop('_c0')\n",
    "df = df.withColumn(\"volume\", df[\"volume\"].cast(\"int\"))\n",
    "df = df.withColumn(\"quantity\", df[\"quantity\"].cast(\"int\"))\n",
    "df = df.withColumn(\"close_price\", df[\"close_price\"].cast(\"int\"))\n",
    "df = df.withColumn(\"value\", df[\"value\"].cast(\"int\"))\n",
    "df = df.withColumn(\"yesterday_qnt\", df[\"yesterday_qnt\"].cast(\"int\"))\n",
    "df = df.withColumn(\"first_order_value\", df[\"first_order_value\"].cast(\"int\"))\n",
    "df = df.withColumn(\"last_order_value\", df[\"last_order_value\"].cast(\"int\"))\n",
    "df = df.withColumn(\"last_order_value_change\", df[\"last_order_value_change\"].cast(\"int\"))\n",
    "df = df.withColumn(\"last_order_value_change_percent\", df[\"last_order_value_change_percent\"].cast(\"double\"))\n",
    "df = df.withColumn(\"close_price_change\", df[\"close_price_change\"].cast(\"int\"))\n",
    "df = df.withColumn(\"close_price_change_percent\", df[\"close_price_change_percent\"].cast(\"double\"))\n",
    "df = df.withColumn(\"min_price\", df[\"min_price\"].cast(\"int\"))\n",
    "df = df.withColumn(\"max_price\", df[\"max_price\"].cast(\"int\"))\n",
    "\n",
    "print((df.count(), len(df.columns)))"
   ]
  },
  {
   "cell_type": "code",
   "execution_count": 11,
   "metadata": {},
   "outputs": [
    {
     "name": "stderr",
     "output_type": "stream",
     "text": [
      "\r",
      "[Stage 10:>                                                         (0 + 1) / 1]\r",
      "\r",
      "                                                                                \r"
     ]
    },
    {
     "data": {
      "text/html": [
       "<table border='1'>\n",
       "<tr><th>symbol</th><th>full_name</th><th>quantity</th><th>volume</th><th>value</th><th>yesterday_qnt</th><th>first_order_value</th><th>last_order_value</th><th>last_order_value_change</th><th>last_order_value_change_percent</th><th>close_price</th><th>close_price_change</th><th>close_price_change_percent</th><th>min_price</th><th>max_price</th><th>month</th><th>day</th></tr>\n",
       "<tr><td>فجهان</td><td>مجتمع جهان فولاد ...</td><td>3037246</td><td>null</td><td>null</td><td>1000</td><td>5500</td><td>5500</td><td>null</td><td>450.0</td><td>5500</td><td>null</td><td>450.0</td><td>5500</td><td>5500</td><td>6</td><td>20</td></tr>\n",
       "<tr><td>وهامون</td><td>سرمايه گذاري هامو...</td><td>75584</td><td>114171991</td><td>null</td><td>4574</td><td>4630</td><td>4346</td><td>-228</td><td>-4.98</td><td>4446</td><td>-128</td><td>-2.8</td><td>4346</td><td>4710</td><td>6</td><td>20</td></tr>\n",
       "<tr><td>مديريت</td><td>س. و خدمات مديريت...</td><td>46418</td><td>31696338</td><td>null</td><td>10065</td><td>10568</td><td>10568</td><td>503</td><td>5.0</td><td>10568</td><td>503</td><td>5.0</td><td>10568</td><td>10568</td><td>6</td><td>20</td></tr>\n",
       "<tr><td>پالايش</td><td>صندوق پالايشي يكم...</td><td>33343</td><td>37789524</td><td>null</td><td>83040</td><td>84690</td><td>82470</td><td>-570</td><td>-0.69</td><td>83840</td><td>800</td><td>0.96</td><td>82400</td><td>86000</td><td>6</td><td>20</td></tr>\n",
       "<tr><td>سپيد</td><td>سپيد ماكيان</td><td>32783</td><td>8354563</td><td>null</td><td>63420</td><td>64680</td><td>62500</td><td>-920</td><td>-1.45</td><td>63620</td><td>200</td><td>0.32</td><td>61320</td><td>66560</td><td>6</td><td>20</td></tr>\n",
       "<tr><td>دي</td><td>بانك دي</td><td>27110</td><td>858858978</td><td>null</td><td>1303</td><td>1321</td><td>1238</td><td>-65</td><td>-4.99</td><td>1260</td><td>-43</td><td>-3.3</td><td>1238</td><td>1332</td><td>6</td><td>20</td></tr>\n",
       "<tr><td>شستا</td><td>سرمايه گذاري تامي...</td><td>25338</td><td>112458233</td><td>null</td><td>13460</td><td>13690</td><td>13420</td><td>-40</td><td>-0.3</td><td>13580</td><td>120</td><td>0.89</td><td>13270</td><td>13960</td><td>6</td><td>20</td></tr>\n",
       "<tr><td>بركت</td><td>گروه دارويي بركت</td><td>23736</td><td>39129061</td><td>null</td><td>44430</td><td>44050</td><td>42210</td><td>null</td><td>-5.0</td><td>42670</td><td>null</td><td>-3.96</td><td>42210</td><td>44600</td><td>6</td><td>20</td></tr>\n",
       "<tr><td>شبندر</td><td>پالايش نفت بندرعباس</td><td>17943</td><td>237903013</td><td>null</td><td>6310</td><td>6460</td><td>6420</td><td>110</td><td>1.74</td><td>6470</td><td>160</td><td>2.54</td><td>6360</td><td>6620</td><td>6</td><td>20</td></tr>\n",
       "<tr><td>دارا يكم</td><td>صندوق واسطه گري م...</td><td>16686</td><td>8849521</td><td>null</td><td>137140</td><td>139200</td><td>135220</td><td>null</td><td>-1.4</td><td>137170</td><td>30</td><td>0.02</td><td>134910</td><td>140410</td><td>6</td><td>20</td></tr>\n",
       "<tr><td>فرابورس</td><td>فرابورس ايران</td><td>16323</td><td>48792020</td><td>null</td><td>31897</td><td>33491</td><td>33491</td><td>null</td><td>5.0</td><td>33302</td><td>null</td><td>4.4</td><td>32350</td><td>33491</td><td>6</td><td>20</td></tr>\n",
       "<tr><td>گدنا</td><td>تهيه توزيع غذاي د...</td><td>15640</td><td>11546710</td><td>null</td><td>24224</td><td>24990</td><td>24949</td><td>725</td><td>2.99</td><td>25197</td><td>973</td><td>4.02</td><td>24265</td><td>25435</td><td>6</td><td>20</td></tr>\n",
       "<tr><td>فولاد</td><td>فولاد مباركه اصفهان</td><td>15124</td><td>131105853</td><td>null</td><td>11600</td><td>11750</td><td>11490</td><td>-110</td><td>-0.95</td><td>11580</td><td>-20</td><td>-0.17</td><td>11460</td><td>11790</td><td>6</td><td>20</td></tr>\n",
       "<tr><td>سپيدار</td><td>سپيدار سيستم آسيا</td><td>14722</td><td>6179604</td><td>null</td><td>22453</td><td>21860</td><td>21331</td><td>null</td><td>-5.0</td><td>21564</td><td>-889</td><td>-3.96</td><td>21331</td><td>22662</td><td>6</td><td>20</td></tr>\n",
       "<tr><td>كمند</td><td>صندوق س. با درآمد...</td><td>14223</td><td>656265493</td><td>null</td><td>10012</td><td>10027</td><td>10028</td><td>16</td><td>0.16</td><td>10028</td><td>16</td><td>0.16</td><td>10027</td><td>10030</td><td>6</td><td>20</td></tr>\n",
       "<tr><td>خساپا</td><td>سايپا</td><td>13153</td><td>318022720</td><td>null</td><td>1988</td><td>2002</td><td>1910</td><td>-78</td><td>-3.92</td><td>1954</td><td>-34</td><td>-1.71</td><td>1903</td><td>2035</td><td>6</td><td>20</td></tr>\n",
       "<tr><td>فملي</td><td>ملي‌ صنايع‌ مس‌ ا...</td><td>12831</td><td>80226336</td><td>null</td><td>13670</td><td>14000</td><td>13800</td><td>130</td><td>0.95</td><td>13910</td><td>240</td><td>1.76</td><td>13750</td><td>14210</td><td>6</td><td>20</td></tr>\n",
       "<tr><td>خودرو</td><td>ايران‌ خودرو</td><td>12347</td><td>272742264</td><td>null</td><td>2178</td><td>2200</td><td>2120</td><td>-58</td><td>-2.66</td><td>2160</td><td>-18</td><td>-0.83</td><td>2110</td><td>2258</td><td>6</td><td>20</td></tr>\n",
       "<tr><td>شپنا</td><td>پالايش نفت اصفهان</td><td>11829</td><td>84960857</td><td>null</td><td>13810</td><td>14040</td><td>13790</td><td>-20</td><td>-0.14</td><td>13910</td><td>100</td><td>0.72</td><td>13790</td><td>14300</td><td>6</td><td>20</td></tr>\n",
       "<tr><td>ولكار</td><td>ليزينگ كارآفرين</td><td>10885</td><td>15062571</td><td>null</td><td>4880</td><td>4800</td><td>4910</td><td>30</td><td>0.61</td><td>4989</td><td>109</td><td>2.23</td><td>4800</td><td>5124</td><td>6</td><td>20</td></tr>\n",
       "</table>\n",
       "only showing top 20 rows\n"
      ],
      "text/plain": [
       "+--------+--------------------+--------+---------+-----+-------------+-----------------+----------------+-----------------------+-------------------------------+-----------+------------------+--------------------------+---------+---------+-----+---+\n",
       "|  symbol|           full_name|quantity|   volume|value|yesterday_qnt|first_order_value|last_order_value|last_order_value_change|last_order_value_change_percent|close_price|close_price_change|close_price_change_percent|min_price|max_price|month|day|\n",
       "+--------+--------------------+--------+---------+-----+-------------+-----------------+----------------+-----------------------+-------------------------------+-----------+------------------+--------------------------+---------+---------+-----+---+\n",
       "|   فجهان|مجتمع جهان فولاد ...| 3037246|     null| null|         1000|             5500|            5500|                   null|                          450.0|       5500|              null|                     450.0|     5500|     5500|    6| 20|\n",
       "|  وهامون|سرمايه گذاري هامو...|   75584|114171991| null|         4574|             4630|            4346|                   -228|                          -4.98|       4446|              -128|                      -2.8|     4346|     4710|    6| 20|\n",
       "|  مديريت|س. و خدمات مديريت...|   46418| 31696338| null|        10065|            10568|           10568|                    503|                            5.0|      10568|               503|                       5.0|    10568|    10568|    6| 20|\n",
       "|  پالايش|صندوق پالايشي يكم...|   33343| 37789524| null|        83040|            84690|           82470|                   -570|                          -0.69|      83840|               800|                      0.96|    82400|    86000|    6| 20|\n",
       "|    سپيد|         سپيد ماكيان|   32783|  8354563| null|        63420|            64680|           62500|                   -920|                          -1.45|      63620|               200|                      0.32|    61320|    66560|    6| 20|\n",
       "|      دي|             بانك دي|   27110|858858978| null|         1303|             1321|            1238|                    -65|                          -4.99|       1260|               -43|                      -3.3|     1238|     1332|    6| 20|\n",
       "|    شستا|سرمايه گذاري تامي...|   25338|112458233| null|        13460|            13690|           13420|                    -40|                           -0.3|      13580|               120|                      0.89|    13270|    13960|    6| 20|\n",
       "|    بركت|    گروه دارويي بركت|   23736| 39129061| null|        44430|            44050|           42210|                   null|                           -5.0|      42670|              null|                     -3.96|    42210|    44600|    6| 20|\n",
       "|   شبندر| پالايش نفت بندرعباس|   17943|237903013| null|         6310|             6460|            6420|                    110|                           1.74|       6470|               160|                      2.54|     6360|     6620|    6| 20|\n",
       "|دارا يكم|صندوق واسطه گري م...|   16686|  8849521| null|       137140|           139200|          135220|                   null|                           -1.4|     137170|                30|                      0.02|   134910|   140410|    6| 20|\n",
       "| فرابورس|       فرابورس ايران|   16323| 48792020| null|        31897|            33491|           33491|                   null|                            5.0|      33302|              null|                       4.4|    32350|    33491|    6| 20|\n",
       "|    گدنا|تهيه توزيع غذاي د...|   15640| 11546710| null|        24224|            24990|           24949|                    725|                           2.99|      25197|               973|                      4.02|    24265|    25435|    6| 20|\n",
       "|   فولاد| فولاد مباركه اصفهان|   15124|131105853| null|        11600|            11750|           11490|                   -110|                          -0.95|      11580|               -20|                     -0.17|    11460|    11790|    6| 20|\n",
       "|  سپيدار|   سپيدار سيستم آسيا|   14722|  6179604| null|        22453|            21860|           21331|                   null|                           -5.0|      21564|              -889|                     -3.96|    21331|    22662|    6| 20|\n",
       "|    كمند|صندوق س. با درآمد...|   14223|656265493| null|        10012|            10027|           10028|                     16|                           0.16|      10028|                16|                      0.16|    10027|    10030|    6| 20|\n",
       "|   خساپا|               سايپا|   13153|318022720| null|         1988|             2002|            1910|                    -78|                          -3.92|       1954|               -34|                     -1.71|     1903|     2035|    6| 20|\n",
       "|    فملي|ملي‌ صنايع‌ مس‌ ا...|   12831| 80226336| null|        13670|            14000|           13800|                    130|                           0.95|      13910|               240|                      1.76|    13750|    14210|    6| 20|\n",
       "|   خودرو|        ايران‌ خودرو|   12347|272742264| null|         2178|             2200|            2120|                    -58|                          -2.66|       2160|               -18|                     -0.83|     2110|     2258|    6| 20|\n",
       "|    شپنا|   پالايش نفت اصفهان|   11829| 84960857| null|        13810|            14040|           13790|                    -20|                          -0.14|      13910|               100|                      0.72|    13790|    14300|    6| 20|\n",
       "|   ولكار|     ليزينگ كارآفرين|   10885| 15062571| null|         4880|             4800|            4910|                     30|                           0.61|       4989|               109|                      2.23|     4800|     5124|    6| 20|\n",
       "+--------+--------------------+--------+---------+-----+-------------+-----------------+----------------+-----------------------+-------------------------------+-----------+------------------+--------------------------+---------+---------+-----+---+\n",
       "only showing top 20 rows"
      ]
     },
     "execution_count": 11,
     "metadata": {},
     "output_type": "execute_result"
    }
   ],
   "source": [
    "df.cache()"
   ]
  },
  {
   "cell_type": "code",
   "execution_count": 12,
   "metadata": {
    "colab": {
     "base_uri": "https://localhost:8080/"
    },
    "id": "tTBCOXZS8HNO",
    "outputId": "c6ba0ac8-956c-4138-8dd0-218315517379"
   },
   "outputs": [
    {
     "name": "stdout",
     "output_type": "stream",
     "text": [
      "root\n",
      " |-- symbol: string (nullable = true)\n",
      " |-- full_name: string (nullable = true)\n",
      " |-- quantity: integer (nullable = true)\n",
      " |-- volume: integer (nullable = true)\n",
      " |-- value: integer (nullable = true)\n",
      " |-- yesterday_qnt: integer (nullable = true)\n",
      " |-- first_order_value: integer (nullable = true)\n",
      " |-- last_order_value: integer (nullable = true)\n",
      " |-- last_order_value_change: integer (nullable = true)\n",
      " |-- last_order_value_change_percent: double (nullable = true)\n",
      " |-- close_price: integer (nullable = true)\n",
      " |-- close_price_change: integer (nullable = true)\n",
      " |-- close_price_change_percent: double (nullable = true)\n",
      " |-- min_price: integer (nullable = true)\n",
      " |-- max_price: integer (nullable = true)\n",
      " |-- month: integer (nullable = false)\n",
      " |-- day: integer (nullable = false)\n",
      "\n"
     ]
    }
   ],
   "source": [
    "df.printSchema()"
   ]
  },
  {
   "cell_type": "code",
   "execution_count": 13,
   "metadata": {
    "colab": {
     "base_uri": "https://localhost:8080/",
     "height": 81
    },
    "id": "S70utP0f65N-",
    "outputId": "aeb8f832-f033-4ae2-ffad-417a4e8ff57b"
   },
   "outputs": [
    {
     "name": "stderr",
     "output_type": "stream",
     "text": [
      "                                                                                \r"
     ]
    },
    {
     "data": {
      "text/html": [
       "<div>\n",
       "<style scoped>\n",
       "    .dataframe tbody tr th:only-of-type {\n",
       "        vertical-align: middle;\n",
       "    }\n",
       "\n",
       "    .dataframe tbody tr th {\n",
       "        vertical-align: top;\n",
       "    }\n",
       "\n",
       "    .dataframe thead th {\n",
       "        text-align: right;\n",
       "    }\n",
       "</style>\n",
       "<table border=\"1\" class=\"dataframe\">\n",
       "  <thead>\n",
       "    <tr style=\"text-align: right;\">\n",
       "      <th></th>\n",
       "      <th>پر حجم ترین نماد</th>\n",
       "    </tr>\n",
       "  </thead>\n",
       "  <tbody>\n",
       "    <tr>\n",
       "      <th>0</th>\n",
       "      <td>(5679418998, دي)</td>\n",
       "    </tr>\n",
       "  </tbody>\n",
       "</table>\n",
       "</div>"
      ],
      "text/plain": [
       "   پر حجم ترین نماد\n",
       "0  (5679418998, دي)"
      ]
     },
     "execution_count": 13,
     "metadata": {},
     "output_type": "execute_result"
    }
   ],
   "source": [
    "df.groupBy('symbol').sum('volume')\\\n",
    ".agg(max(struct(col(\"sum(volume)\"), col(\"symbol\")))\\\n",
    ".alias(\"پر حجم ترین نماد\")).limit(1).toPandas()\n"
   ]
  },
  {
   "cell_type": "markdown",
   "metadata": {
    "id": "H6hqgOArWRW2"
   },
   "source": [
    "### Q3"
   ]
  },
  {
   "cell_type": "code",
   "execution_count": 14,
   "metadata": {
    "id": "IS0OsB-jWQx5"
   },
   "outputs": [],
   "source": [
    "outSchema = StructType([StructField('symbol',StringType(),True),\n",
    "                        StructField('close_price',IntegerType(),True),\n",
    "                        StructField('max_diff',IntegerType(),True),\n",
    "                        StructField('month',IntegerType(),True),\n",
    "                        StructField('day',IntegerType(),True)\n",
    "                       ])\n",
    "def max_diff_extractor(df):\n",
    "    # pdf is a pandas.DataFrame\n",
    "    for index, row in df.iterrows():\n",
    "        max_diff=0\n",
    "        for index2, row2 in df.iterrows():\n",
    "            if ((row2.day > row.day and row2.month ==row.month)):\n",
    "                if ((row2.close_price - row.close_price) > max_diff):\n",
    "                    max_diff = row2.close_price-row.close_price\n",
    "                # max_diff = math.max(max_diff,row.close_price-row2.close_price)\n",
    "        df.loc[index,'max_diff'] =  max_diff\n",
    "    return df\n",
    "\n",
    "df_top_diff=df.select('symbol','close_price','month','day')\\\n",
    ".groupby(\"symbol\",'month').applyInPandas(max_diff_extractor,schema=outSchema)\n",
    "\n",
    "df_top_diff = df_top_diff.groupBy('symbol','month').agg(max(col(\"max_diff\")).alias(\"max_increase\"))\\\n",
    ".sort('max_increase',ascending=False)\n",
    "# df_top_diff.limit(20).toPandas()"
   ]
  },
  {
   "cell_type": "code",
   "execution_count": 15,
   "metadata": {
    "colab": {
     "base_uri": "https://localhost:8080/",
     "height": 363
    },
    "id": "cgrAyoXnyAAH",
    "outputId": "5a0da6db-eb6b-4a55-c039-dd8e064e69a8"
   },
   "outputs": [
    {
     "name": "stderr",
     "output_type": "stream",
     "text": [
      "                                                                                \r"
     ]
    },
    {
     "data": {
      "text/html": [
       "<div>\n",
       "<style scoped>\n",
       "    .dataframe tbody tr th:only-of-type {\n",
       "        vertical-align: middle;\n",
       "    }\n",
       "\n",
       "    .dataframe tbody tr th {\n",
       "        vertical-align: top;\n",
       "    }\n",
       "\n",
       "    .dataframe thead th {\n",
       "        text-align: right;\n",
       "    }\n",
       "</style>\n",
       "<table border=\"1\" class=\"dataframe\">\n",
       "  <thead>\n",
       "    <tr style=\"text-align: right;\">\n",
       "      <th></th>\n",
       "      <th>symbol</th>\n",
       "      <th>month</th>\n",
       "      <th>max_increase</th>\n",
       "    </tr>\n",
       "  </thead>\n",
       "  <tbody>\n",
       "    <tr>\n",
       "      <th>0</th>\n",
       "      <td>تملي702</td>\n",
       "      <td>6</td>\n",
       "      <td>91013</td>\n",
       "    </tr>\n",
       "    <tr>\n",
       "      <th>1</th>\n",
       "      <td>پست0008پ08</td>\n",
       "      <td>6</td>\n",
       "      <td>82888</td>\n",
       "    </tr>\n",
       "    <tr>\n",
       "      <th>2</th>\n",
       "      <td>تملي705</td>\n",
       "      <td>6</td>\n",
       "      <td>67005</td>\n",
       "    </tr>\n",
       "    <tr>\n",
       "      <th>3</th>\n",
       "      <td>فپنتا</td>\n",
       "      <td>6</td>\n",
       "      <td>42320</td>\n",
       "    </tr>\n",
       "    <tr>\n",
       "      <th>4</th>\n",
       "      <td>سنفت007</td>\n",
       "      <td>6</td>\n",
       "      <td>39126</td>\n",
       "    </tr>\n",
       "    <tr>\n",
       "      <th>5</th>\n",
       "      <td>زير0103پ04</td>\n",
       "      <td>6</td>\n",
       "      <td>38680</td>\n",
       "    </tr>\n",
       "    <tr>\n",
       "      <th>6</th>\n",
       "      <td>تملي803</td>\n",
       "      <td>6</td>\n",
       "      <td>33720</td>\n",
       "    </tr>\n",
       "    <tr>\n",
       "      <th>7</th>\n",
       "      <td>مصفها203</td>\n",
       "      <td>6</td>\n",
       "      <td>28900</td>\n",
       "    </tr>\n",
       "    <tr>\n",
       "      <th>8</th>\n",
       "      <td>صشستا112</td>\n",
       "      <td>6</td>\n",
       "      <td>28619</td>\n",
       "    </tr>\n",
       "    <tr>\n",
       "      <th>9</th>\n",
       "      <td>بكاب</td>\n",
       "      <td>6</td>\n",
       "      <td>27220</td>\n",
       "    </tr>\n",
       "  </tbody>\n",
       "</table>\n",
       "</div>"
      ],
      "text/plain": [
       "       symbol  month  max_increase\n",
       "0     تملي702      6         91013\n",
       "1  پست0008پ08      6         82888\n",
       "2     تملي705      6         67005\n",
       "3       فپنتا      6         42320\n",
       "4     سنفت007      6         39126\n",
       "5  زير0103پ04      6         38680\n",
       "6     تملي803      6         33720\n",
       "7    مصفها203      6         28900\n",
       "8    صشستا112      6         28619\n",
       "9        بكاب      6         27220"
      ]
     },
     "execution_count": 15,
     "metadata": {},
     "output_type": "execute_result"
    }
   ],
   "source": [
    "df_top_diff.filter('month = 6').limit(10).toPandas()"
   ]
  },
  {
   "cell_type": "markdown",
   "metadata": {
    "id": "EPxfsq6GyI3_"
   },
   "source": [
    "### Q4"
   ]
  },
  {
   "cell_type": "code",
   "execution_count": null,
   "metadata": {
    "colab": {
     "base_uri": "https://localhost:8080/",
     "height": 677
    },
    "id": "uayWp5mkXm9g",
    "outputId": "7cc933af-0ade-401c-da09-044dedbd819e"
   },
   "outputs": [],
   "source": [
    "outSchema = StructType([StructField('symbol',StringType(),True),\n",
    "                        StructField('close_price',IntegerType(),True),\n",
    "                        StructField('max_diff',IntegerType(),True),\n",
    "                        StructField('month',IntegerType(),True),\n",
    "                        StructField('day',IntegerType(),True)\n",
    "                       ])\n",
    "def max_diff_extractor(df):\n",
    "    # pdf is a pandas.DataFrame\n",
    "    for index, row in df.iterrows():\n",
    "        max_diff=0\n",
    "        for index2, row2 in df.iterrows():\n",
    "            if ((row2.day > row.day and row2.month ==row.month) or row2.month>row.month):\n",
    "                if row.close_price-row2.close_price > max_diff:\n",
    "                    max_diff = row.close_price-row2.close_price\n",
    "                # max_diff = math.max(max_diff,row.close_price-row2.close_price)\n",
    "        df.loc[index,'max_diff'] =  max_diff\n",
    "    return df\n",
    "\n",
    "df_top_diff=df.select('symbol','close_price','month','day')\\\n",
    ".groupby(\"symbol\").applyInPandas(max_diff_extractor,schema=outSchema)\n",
    "\n",
    "df_top_diff = df_top_diff.groupBy('symbol').agg(max(col(\"max_diff\")))\\\n",
    ".sort('max(max_diff)',ascending=False)\n",
    "df_top_diff.limit(20).toPandas()"
   ]
  },
  {
   "cell_type": "markdown",
   "metadata": {
    "id": "k3sPiAA5EUzG"
   },
   "source": [
    "## Spark SQL"
   ]
  },
  {
   "cell_type": "markdown",
   "metadata": {
    "id": "UGvQb5QHBhNo"
   },
   "source": [
    "### Preprocess (Create Table)"
   ]
  },
  {
   "cell_type": "code",
   "execution_count": 18,
   "metadata": {
    "colab": {
     "base_uri": "https://localhost:8080/"
    },
    "id": "RurYnqEEEUW4",
    "outputId": "54d7f5f8-f9c9-45e6-ba27-c4cd1627d38f"
   },
   "outputs": [
    {
     "name": "stderr",
     "output_type": "stream",
     "text": [
      "[Stage 23:==============================================>           (4 + 1) / 5]\r"
     ]
    },
    {
     "name": "stdout",
     "output_type": "stream",
     "text": [
      "+-----------+\n",
      "|total_count|\n",
      "+-----------+\n",
      "|       4635|\n",
      "+-----------+\n",
      "\n"
     ]
    },
    {
     "name": "stderr",
     "output_type": "stream",
     "text": [
      "\r",
      "                                                                                \r"
     ]
    }
   ],
   "source": [
    "last_day_file_path = '/opt/spark-data/trades/1400/1400-6-20.csv'\n",
    "df = spark.read.option(\"header\",True).csv(last_day_file_path)\n",
    "df = df.withColumn(\"month\", lit(6))\n",
    "df = df.withColumn(\"day\", lit(20))\n",
    "f_path='/opt/spark-data/trades/1400/'\n",
    "onlyfiles = [f for f in listdir(f_path) if isfile(join(f_path, f))]\n",
    "for f in onlyfiles:\n",
    "    if f =='1400-6-20.csv':\n",
    "        continue\n",
    "    tmp = spark.read.option(\"header\",True).csv(f_path+f)\n",
    "    splt_date= f.replace('.csv','').split('-')\n",
    "    month = int(splt_date[1])\n",
    "    day = int(splt_date[2])\n",
    "    tmp = tmp.withColumn(\"month\", lit(month))\n",
    "    tmp = tmp.withColumn(\"day\", lit(day))\n",
    "    df = df.union(tmp)\n",
    "df = df.withColumnRenamed(\"نماد\",\"symbol\")\\\n",
    "    .withColumnRenamed('نام','full_name')\\\n",
    "    .withColumnRenamed('تعداد','quantity')\\\n",
    "    .withColumnRenamed('حجم','volume')\\\n",
    "    .withColumnRenamed('ارزش','value')\\\n",
    "    .withColumnRenamed('دیروز','yesterday_qnt')\\\n",
    "    .withColumnRenamed('اولین','first_order_value')\\\n",
    "    .withColumnRenamed('دیروز','yesterday_qnt')\\\n",
    "    .withColumnRenamed('آخرین معامله - مقدار','last_order_value')\\\n",
    "    .withColumnRenamed('آخرین معامله - تغییر','last_order_value_change')\\\n",
    "    .withColumnRenamed('آخرین معامله - درصد','last_order_value_change_percent')\\\n",
    "    .withColumnRenamed('قیمت پایانی - مقدار','close_price')\\\n",
    "    .withColumnRenamed('قیمت پایانی - تغییر','close_price_change')\\\n",
    "    .withColumnRenamed('قیمت پایانی - درصد','close_price_change_percent')\\\n",
    "    .withColumnRenamed('کمترین','min_price')\\\n",
    "    .withColumnRenamed('بیشترین','max_price')\n",
    "df=df.drop('_c0')\n",
    "df = df.withColumn(\"volume\", df[\"volume\"].cast(\"int\"))\n",
    "df = df.withColumn(\"close_price\", df[\"close_price\"].cast(\"int\"))\n",
    "\n",
    "df.createOrReplaceTempView(\"bors\")\n",
    "# spark.sql(\"select * from bors limit 5\").show()\n",
    "spark.sql(\"select count(*) as total_count from bors\").show()"
   ]
  },
  {
   "cell_type": "markdown",
   "metadata": {
    "id": "b8v3UkjMOYhA"
   },
   "source": [
    "### Q1-2"
   ]
  },
  {
   "cell_type": "code",
   "execution_count": 37,
   "metadata": {
    "colab": {
     "base_uri": "https://localhost:8080/",
     "height": 363
    },
    "id": "Xhful-cQNSmx",
    "outputId": "330916bb-3bea-48c7-ff07-651ae639d6f2"
   },
   "outputs": [
    {
     "name": "stderr",
     "output_type": "stream",
     "text": [
      "                                                                                \r"
     ]
    },
    {
     "data": {
      "text/html": [
       "<div>\n",
       "<style scoped>\n",
       "    .dataframe tbody tr th:only-of-type {\n",
       "        vertical-align: middle;\n",
       "    }\n",
       "\n",
       "    .dataframe tbody tr th {\n",
       "        vertical-align: top;\n",
       "    }\n",
       "\n",
       "    .dataframe thead th {\n",
       "        text-align: right;\n",
       "    }\n",
       "</style>\n",
       "<table border=\"1\" class=\"dataframe\">\n",
       "  <thead>\n",
       "    <tr style=\"text-align: right;\">\n",
       "      <th></th>\n",
       "      <th>symbol</th>\n",
       "      <th>close_price</th>\n",
       "    </tr>\n",
       "  </thead>\n",
       "  <tbody>\n",
       "    <tr>\n",
       "      <th>0</th>\n",
       "      <td>پست0008پ08</td>\n",
       "      <td>1832888</td>\n",
       "    </tr>\n",
       "    <tr>\n",
       "      <th>1</th>\n",
       "      <td>سكه0011پ02</td>\n",
       "      <td>1211746</td>\n",
       "    </tr>\n",
       "    <tr>\n",
       "      <th>2</th>\n",
       "      <td>سكه0012پ01</td>\n",
       "      <td>1210725</td>\n",
       "    </tr>\n",
       "    <tr>\n",
       "      <th>3</th>\n",
       "      <td>سكه0112پ03</td>\n",
       "      <td>1208117</td>\n",
       "    </tr>\n",
       "    <tr>\n",
       "      <th>4</th>\n",
       "      <td>سكه0012پ04</td>\n",
       "      <td>1207103</td>\n",
       "    </tr>\n",
       "    <tr>\n",
       "      <th>5</th>\n",
       "      <td>سكه0111پ05</td>\n",
       "      <td>1204265</td>\n",
       "    </tr>\n",
       "    <tr>\n",
       "      <th>6</th>\n",
       "      <td>صملي4042</td>\n",
       "      <td>1000000</td>\n",
       "    </tr>\n",
       "    <tr>\n",
       "      <th>7</th>\n",
       "      <td>اراد61</td>\n",
       "      <td>1000000</td>\n",
       "    </tr>\n",
       "    <tr>\n",
       "      <th>8</th>\n",
       "      <td>اراد24</td>\n",
       "      <td>1000000</td>\n",
       "    </tr>\n",
       "    <tr>\n",
       "      <th>9</th>\n",
       "      <td>اراد50</td>\n",
       "      <td>1000000</td>\n",
       "    </tr>\n",
       "  </tbody>\n",
       "</table>\n",
       "</div>"
      ],
      "text/plain": [
       "       symbol  close_price\n",
       "0  پست0008پ08      1832888\n",
       "1  سكه0011پ02      1211746\n",
       "2  سكه0012پ01      1210725\n",
       "3  سكه0112پ03      1208117\n",
       "4  سكه0012پ04      1207103\n",
       "5  سكه0111پ05      1204265\n",
       "6    صملي4042      1000000\n",
       "7      اراد61      1000000\n",
       "8      اراد24      1000000\n",
       "9      اراد50      1000000"
      ]
     },
     "execution_count": 37,
     "metadata": {},
     "output_type": "execute_result"
    }
   ],
   "source": [
    "spark.sql(\"\"\"SELECT symbol,close_price FROM bors\n",
    "    WHERE month=6 AND day = 20 \n",
    "    ORDER BY close_price DESC LIMIT 10\"\"\"\n",
    "    ).toPandas()"
   ]
  },
  {
   "cell_type": "code",
   "execution_count": 38,
   "metadata": {
    "colab": {
     "base_uri": "https://localhost:8080/",
     "height": 363
    },
    "id": "eGXLxaBKGHwh",
    "outputId": "e5880e01-cead-48d6-f8b2-7061b7753189"
   },
   "outputs": [
    {
     "name": "stderr",
     "output_type": "stream",
     "text": [
      "                                                                                \r"
     ]
    },
    {
     "data": {
      "text/html": [
       "<div>\n",
       "<style scoped>\n",
       "    .dataframe tbody tr th:only-of-type {\n",
       "        vertical-align: middle;\n",
       "    }\n",
       "\n",
       "    .dataframe tbody tr th {\n",
       "        vertical-align: top;\n",
       "    }\n",
       "\n",
       "    .dataframe thead th {\n",
       "        text-align: right;\n",
       "    }\n",
       "</style>\n",
       "<table border=\"1\" class=\"dataframe\">\n",
       "  <thead>\n",
       "    <tr style=\"text-align: right;\">\n",
       "      <th></th>\n",
       "      <th>symbol</th>\n",
       "      <th>close_price</th>\n",
       "    </tr>\n",
       "  </thead>\n",
       "  <tbody>\n",
       "    <tr>\n",
       "      <th>0</th>\n",
       "      <td>None</td>\n",
       "      <td>NaN</td>\n",
       "    </tr>\n",
       "    <tr>\n",
       "      <th>1</th>\n",
       "      <td>None</td>\n",
       "      <td>NaN</td>\n",
       "    </tr>\n",
       "    <tr>\n",
       "      <th>2</th>\n",
       "      <td>آسام2</td>\n",
       "      <td>1.0</td>\n",
       "    </tr>\n",
       "    <tr>\n",
       "      <th>3</th>\n",
       "      <td>خاتم2</td>\n",
       "      <td>1.0</td>\n",
       "    </tr>\n",
       "    <tr>\n",
       "      <th>4</th>\n",
       "      <td>عيار2</td>\n",
       "      <td>1.0</td>\n",
       "    </tr>\n",
       "    <tr>\n",
       "      <th>5</th>\n",
       "      <td>ارمغان2</td>\n",
       "      <td>1.0</td>\n",
       "    </tr>\n",
       "    <tr>\n",
       "      <th>6</th>\n",
       "      <td>كيان2</td>\n",
       "      <td>1.0</td>\n",
       "    </tr>\n",
       "    <tr>\n",
       "      <th>7</th>\n",
       "      <td>فردا2</td>\n",
       "      <td>1.0</td>\n",
       "    </tr>\n",
       "    <tr>\n",
       "      <th>8</th>\n",
       "      <td>افران2</td>\n",
       "      <td>1.0</td>\n",
       "    </tr>\n",
       "    <tr>\n",
       "      <th>9</th>\n",
       "      <td>سپيدما2</td>\n",
       "      <td>1.0</td>\n",
       "    </tr>\n",
       "  </tbody>\n",
       "</table>\n",
       "</div>"
      ],
      "text/plain": [
       "    symbol  close_price\n",
       "0     None          NaN\n",
       "1     None          NaN\n",
       "2    آسام2          1.0\n",
       "3    خاتم2          1.0\n",
       "4    عيار2          1.0\n",
       "5  ارمغان2          1.0\n",
       "6    كيان2          1.0\n",
       "7    فردا2          1.0\n",
       "8   افران2          1.0\n",
       "9  سپيدما2          1.0"
      ]
     },
     "execution_count": 38,
     "metadata": {},
     "output_type": "execute_result"
    }
   ],
   "source": [
    "spark.sql(\"\"\"SELECT symbol,close_price FROM bors \n",
    "    WHERE month=6 AND day = 15 \n",
    "    ORDER BY close_price ASC LIMIT 10\"\"\"\n",
    ").toPandas()"
   ]
  },
  {
   "cell_type": "markdown",
   "metadata": {
    "id": "mogF-KQ5Ofem"
   },
   "source": [
    "### Q2-2\n"
   ]
  },
  {
   "cell_type": "code",
   "execution_count": 19,
   "metadata": {
    "colab": {
     "base_uri": "https://localhost:8080/",
     "height": 81
    },
    "id": "FqrXNm2YEUNW",
    "outputId": "220bf619-6f69-43a7-ffa9-e2ddf4a162af"
   },
   "outputs": [
    {
     "name": "stderr",
     "output_type": "stream",
     "text": [
      "                                                                                \r"
     ]
    },
    {
     "data": {
      "text/html": [
       "<div>\n",
       "<style scoped>\n",
       "    .dataframe tbody tr th:only-of-type {\n",
       "        vertical-align: middle;\n",
       "    }\n",
       "\n",
       "    .dataframe tbody tr th {\n",
       "        vertical-align: top;\n",
       "    }\n",
       "\n",
       "    .dataframe thead th {\n",
       "        text-align: right;\n",
       "    }\n",
       "</style>\n",
       "<table border=\"1\" class=\"dataframe\">\n",
       "  <thead>\n",
       "    <tr style=\"text-align: right;\">\n",
       "      <th></th>\n",
       "      <th>symbol</th>\n",
       "      <th>Sum_Volume</th>\n",
       "    </tr>\n",
       "  </thead>\n",
       "  <tbody>\n",
       "    <tr>\n",
       "      <th>0</th>\n",
       "      <td>دي</td>\n",
       "      <td>5679418998</td>\n",
       "    </tr>\n",
       "  </tbody>\n",
       "</table>\n",
       "</div>"
      ],
      "text/plain": [
       "  symbol  Sum_Volume\n",
       "0     دي  5679418998"
      ]
     },
     "execution_count": 19,
     "metadata": {},
     "output_type": "execute_result"
    }
   ],
   "source": [
    "spark.sql(\"\"\"SELECT symbol,SUM(volume) as Sum_Volume\n",
    "    FROM bors \n",
    "    GROUP BY symbol \n",
    "    ORDER BY Sum_Volume DESC \n",
    "    LIMIT 1\"\"\"\n",
    "    ).toPandas()"
   ]
  },
  {
   "cell_type": "markdown",
   "metadata": {
    "id": "XacsHi83O3MY"
   },
   "source": [
    "### Q3-2"
   ]
  },
  {
   "cell_type": "code",
   "execution_count": 20,
   "metadata": {
    "colab": {
     "base_uri": "https://localhost:8080/",
     "height": 677
    },
    "id": "FQAnC-NUO2Iu",
    "outputId": "1c3d8e87-baf8-4161-c158-d2515bce1ea2"
   },
   "outputs": [
    {
     "name": "stderr",
     "output_type": "stream",
     "text": [
      "                                                                                \r"
     ]
    },
    {
     "data": {
      "text/html": [
       "<div>\n",
       "<style scoped>\n",
       "    .dataframe tbody tr th:only-of-type {\n",
       "        vertical-align: middle;\n",
       "    }\n",
       "\n",
       "    .dataframe tbody tr th {\n",
       "        vertical-align: top;\n",
       "    }\n",
       "\n",
       "    .dataframe thead th {\n",
       "        text-align: right;\n",
       "    }\n",
       "</style>\n",
       "<table border=\"1\" class=\"dataframe\">\n",
       "  <thead>\n",
       "    <tr style=\"text-align: right;\">\n",
       "      <th></th>\n",
       "      <th>symbol</th>\n",
       "      <th>month</th>\n",
       "      <th>diff</th>\n",
       "    </tr>\n",
       "  </thead>\n",
       "  <tbody>\n",
       "    <tr>\n",
       "      <th>0</th>\n",
       "      <td>تملي702</td>\n",
       "      <td>6</td>\n",
       "      <td>91013</td>\n",
       "    </tr>\n",
       "    <tr>\n",
       "      <th>1</th>\n",
       "      <td>پست0008پ08</td>\n",
       "      <td>6</td>\n",
       "      <td>82888</td>\n",
       "    </tr>\n",
       "    <tr>\n",
       "      <th>2</th>\n",
       "      <td>تملي705</td>\n",
       "      <td>6</td>\n",
       "      <td>67005</td>\n",
       "    </tr>\n",
       "    <tr>\n",
       "      <th>3</th>\n",
       "      <td>فپنتا</td>\n",
       "      <td>6</td>\n",
       "      <td>42320</td>\n",
       "    </tr>\n",
       "    <tr>\n",
       "      <th>4</th>\n",
       "      <td>سنفت007</td>\n",
       "      <td>6</td>\n",
       "      <td>39126</td>\n",
       "    </tr>\n",
       "    <tr>\n",
       "      <th>5</th>\n",
       "      <td>زير0103پ04</td>\n",
       "      <td>6</td>\n",
       "      <td>38680</td>\n",
       "    </tr>\n",
       "    <tr>\n",
       "      <th>6</th>\n",
       "      <td>تملي803</td>\n",
       "      <td>6</td>\n",
       "      <td>33720</td>\n",
       "    </tr>\n",
       "    <tr>\n",
       "      <th>7</th>\n",
       "      <td>مصفها203</td>\n",
       "      <td>6</td>\n",
       "      <td>28900</td>\n",
       "    </tr>\n",
       "    <tr>\n",
       "      <th>8</th>\n",
       "      <td>صشستا112</td>\n",
       "      <td>6</td>\n",
       "      <td>28619</td>\n",
       "    </tr>\n",
       "    <tr>\n",
       "      <th>9</th>\n",
       "      <td>بكاب</td>\n",
       "      <td>6</td>\n",
       "      <td>27220</td>\n",
       "    </tr>\n",
       "  </tbody>\n",
       "</table>\n",
       "</div>"
      ],
      "text/plain": [
       "       symbol  month   diff\n",
       "0     تملي702      6  91013\n",
       "1  پست0008پ08      6  82888\n",
       "2     تملي705      6  67005\n",
       "3       فپنتا      6  42320\n",
       "4     سنفت007      6  39126\n",
       "5  زير0103پ04      6  38680\n",
       "6     تملي803      6  33720\n",
       "7    مصفها203      6  28900\n",
       "8    صشستا112      6  28619\n",
       "9        بكاب      6  27220"
      ]
     },
     "execution_count": 20,
     "metadata": {},
     "output_type": "execute_result"
    }
   ],
   "source": [
    "query = \"\"\" select T.symbol,\n",
    "       T.month,\n",
    "       T.diff\n",
    "from \n",
    "  (select T.symbol, T.month, T.diff,\n",
    "  row_number() over(partition by T.month order by T.diff desc) as rn\n",
    "  from \n",
    "    (SELECT first_tbl.symbol, first_tbl.month , Max((second_tbl.close_price - first_tbl.close_price)) as diff\n",
    "    FROM \n",
    "      (SELECT * FROM bors) AS first_tbl\n",
    "      JOIN\n",
    "      (SELECT * FROM bors) AS second_tbl\n",
    "      WHERE first_tbl.symbol = second_tbl.symbol AND first_tbl.month = second_tbl.month AND first_tbl.day < second_tbl.day\n",
    "      GROUP BY first_tbl.symbol, first_tbl.month\n",
    "      ) as T\n",
    "     ) as T\n",
    "where T.rn <= 10 \"\"\"\n",
    "spark.sql(query).toPandas()"
   ]
  },
  {
   "cell_type": "markdown",
   "metadata": {
    "id": "uio_XDS0Q_J_"
   },
   "source": [
    "### Q4-2"
   ]
  },
  {
   "cell_type": "code",
   "execution_count": 21,
   "metadata": {
    "colab": {
     "base_uri": "https://localhost:8080/",
     "height": 677
    },
    "id": "x22T3XWxO2wO",
    "outputId": "d7577a11-cbbe-442e-ba7a-d326d7531101"
   },
   "outputs": [
    {
     "name": "stderr",
     "output_type": "stream",
     "text": [
      "                                                                                \r"
     ]
    },
    {
     "data": {
      "text/html": [
       "<div>\n",
       "<style scoped>\n",
       "    .dataframe tbody tr th:only-of-type {\n",
       "        vertical-align: middle;\n",
       "    }\n",
       "\n",
       "    .dataframe tbody tr th {\n",
       "        vertical-align: top;\n",
       "    }\n",
       "\n",
       "    .dataframe thead th {\n",
       "        text-align: right;\n",
       "    }\n",
       "</style>\n",
       "<table border=\"1\" class=\"dataframe\">\n",
       "  <thead>\n",
       "    <tr style=\"text-align: right;\">\n",
       "      <th></th>\n",
       "      <th>symbol</th>\n",
       "      <th>m_diff</th>\n",
       "    </tr>\n",
       "  </thead>\n",
       "  <tbody>\n",
       "    <tr>\n",
       "      <th>0</th>\n",
       "      <td>تملي704</td>\n",
       "      <td>71650</td>\n",
       "    </tr>\n",
       "    <tr>\n",
       "      <th>1</th>\n",
       "      <td>صشستا112</td>\n",
       "      <td>70763</td>\n",
       "    </tr>\n",
       "    <tr>\n",
       "      <th>2</th>\n",
       "      <td>تملي706</td>\n",
       "      <td>57314</td>\n",
       "    </tr>\n",
       "    <tr>\n",
       "      <th>3</th>\n",
       "      <td>پست0008پ04</td>\n",
       "      <td>53704</td>\n",
       "    </tr>\n",
       "    <tr>\n",
       "      <th>4</th>\n",
       "      <td>تملي612</td>\n",
       "      <td>45167</td>\n",
       "    </tr>\n",
       "    <tr>\n",
       "      <th>5</th>\n",
       "      <td>تملي701</td>\n",
       "      <td>45129</td>\n",
       "    </tr>\n",
       "    <tr>\n",
       "      <th>6</th>\n",
       "      <td>تملي709</td>\n",
       "      <td>40375</td>\n",
       "    </tr>\n",
       "    <tr>\n",
       "      <th>7</th>\n",
       "      <td>تسه9812</td>\n",
       "      <td>34726</td>\n",
       "    </tr>\n",
       "    <tr>\n",
       "      <th>8</th>\n",
       "      <td>فپنتا</td>\n",
       "      <td>31250</td>\n",
       "    </tr>\n",
       "    <tr>\n",
       "      <th>9</th>\n",
       "      <td>تسه9902</td>\n",
       "      <td>30179</td>\n",
       "    </tr>\n",
       "    <tr>\n",
       "      <th>10</th>\n",
       "      <td>تسه9908</td>\n",
       "      <td>29437</td>\n",
       "    </tr>\n",
       "    <tr>\n",
       "      <th>11</th>\n",
       "      <td>زير0103پ04</td>\n",
       "      <td>28680</td>\n",
       "    </tr>\n",
       "    <tr>\n",
       "      <th>12</th>\n",
       "      <td>صگل039</td>\n",
       "      <td>28611</td>\n",
       "    </tr>\n",
       "    <tr>\n",
       "      <th>13</th>\n",
       "      <td>تسه9909</td>\n",
       "      <td>28307</td>\n",
       "    </tr>\n",
       "    <tr>\n",
       "      <th>14</th>\n",
       "      <td>پست0008پ08</td>\n",
       "      <td>27597</td>\n",
       "    </tr>\n",
       "    <tr>\n",
       "      <th>15</th>\n",
       "      <td>تسه9903</td>\n",
       "      <td>26860</td>\n",
       "    </tr>\n",
       "    <tr>\n",
       "      <th>16</th>\n",
       "      <td>تسه9901</td>\n",
       "      <td>26823</td>\n",
       "    </tr>\n",
       "    <tr>\n",
       "      <th>17</th>\n",
       "      <td>تسه0005</td>\n",
       "      <td>25751</td>\n",
       "    </tr>\n",
       "    <tr>\n",
       "      <th>18</th>\n",
       "      <td>تسه9906</td>\n",
       "      <td>25449</td>\n",
       "    </tr>\n",
       "    <tr>\n",
       "      <th>19</th>\n",
       "      <td>صبهمن404</td>\n",
       "      <td>25001</td>\n",
       "    </tr>\n",
       "  </tbody>\n",
       "</table>\n",
       "</div>"
      ],
      "text/plain": [
       "        symbol  m_diff\n",
       "0      تملي704   71650\n",
       "1     صشستا112   70763\n",
       "2      تملي706   57314\n",
       "3   پست0008پ04   53704\n",
       "4      تملي612   45167\n",
       "5      تملي701   45129\n",
       "6      تملي709   40375\n",
       "7      تسه9812   34726\n",
       "8        فپنتا   31250\n",
       "9      تسه9902   30179\n",
       "10     تسه9908   29437\n",
       "11  زير0103پ04   28680\n",
       "12      صگل039   28611\n",
       "13     تسه9909   28307\n",
       "14  پست0008پ08   27597\n",
       "15     تسه9903   26860\n",
       "16     تسه9901   26823\n",
       "17     تسه0005   25751\n",
       "18     تسه9906   25449\n",
       "19    صبهمن404   25001"
      ]
     },
     "execution_count": 21,
     "metadata": {},
     "output_type": "execute_result"
    }
   ],
   "source": [
    "query = \"\"\"SELECT symbol,MAX(diff) as m_diff from \n",
    "(SELECT nowPrice.symbol, (BPrice - APrice) as diff\n",
    "FROM (SELECT symbol,month,day ,close_price AS APrice FROM bors)AS nowPrice JOIN \n",
    "(SELECT symbol, month, day , close_price as BPrice FROM bors) AS sixMonthAgo\n",
    "WHERE nowPrice.symbol = sixMonthAgo.symbol AND (nowPrice.month > sixMonthAgo.month or \n",
    "(nowPrice.month = sixMonthAgo.month and nowPrice.day > sixMonthAgo.day) ) )\n",
    "as diff_table GROUP by symbol ORDER by m_diff DESC Limit 20\"\"\"\n",
    "spark.sql(query).toPandas()"
   ]
  },
  {
   "cell_type": "code",
   "execution_count": 43,
   "metadata": {},
   "outputs": [],
   "source": [
    "spark.stop()"
   ]
  }
 ],
 "metadata": {
  "colab": {
   "collapsed_sections": [],
   "name": "BigData_HW3_Q3.ipynb",
   "provenance": []
  },
  "kernelspec": {
   "display_name": "Python 3 (ipykernel)",
   "language": "python",
   "name": "python3"
  },
  "language_info": {
   "codemirror_mode": {
    "name": "ipython",
    "version": 3
   },
   "file_extension": ".py",
   "mimetype": "text/x-python",
   "name": "python",
   "nbconvert_exporter": "python",
   "pygments_lexer": "ipython3",
   "version": "3.9.13"
  }
 },
 "nbformat": 4,
 "nbformat_minor": 4
}
